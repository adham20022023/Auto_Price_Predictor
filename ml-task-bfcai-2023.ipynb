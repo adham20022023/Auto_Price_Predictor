{
 "cells": [
  {
   "cell_type": "markdown",
   "id": "507fb2e9",
   "metadata": {
    "papermill": {
     "duration": 0.006584,
     "end_time": "2023-12-13T12:49:51.160684",
     "exception": false,
     "start_time": "2023-12-13T12:49:51.154100",
     "status": "completed"
    },
    "tags": []
   },
   "source": [
    "<h1 style=\"\n",
    "  font-family: Arial, Helvetica, sans-serif;\n",
    "  background: linear-gradient(to right, #f32170, #ff6b08, #cf23cf, #eedd44);\n",
    "  -webkit-text-fill-color: transparent;\n",
    "  -webkit-background-clip: text;\n",
    "\">| Australian Vehicle Price Prediction</h1>\n",
    "This is a Machine Learning task for the students of BFCAI.\n",
    "\n",
    "Dataset link: https://www.kaggle.com/datasets/nelgiriyewithana/australian-vehicle-prices/\n",
    "\n",
    "The main objective of this task is to train a model to predict a vehicle price given some features about the vehicle."
   ]
  },
  {
   "cell_type": "markdown",
   "id": "9f2a3b38",
   "metadata": {
    "papermill": {
     "duration": 0.005792,
     "end_time": "2023-12-13T12:49:51.174631",
     "exception": false,
     "start_time": "2023-12-13T12:49:51.168839",
     "status": "completed"
    },
    "tags": []
   },
   "source": [
    "<h4 style=\"\n",
    "  font-family: Arial, Helvetica, sans-serif;\n",
    "  background: linear-gradient(to right, #f32170, #ff6b08, #cf23cf, #eedd44);\n",
    "  -webkit-text-fill-color: transparent;\n",
    "  -webkit-background-clip: text;\n",
    "\">| Team members</h4>\n",
    "\n",
    "Write team member names (**double click to edit**)\n",
    "1. ادهم اشرف ابراهيم الجنزورى \n",
    "2. احمد محمد سعيد محمد\n",
    "3. احمد محمد قاسم محمد\n",
    "4. خالد عبد المحسن\n",
    "5. منى محمد حمدى جمعه\n",
    "6. منار حمادة السيد محروس\n"
   ]
  },
  {
   "cell_type": "markdown",
   "id": "857c3a04",
   "metadata": {
    "papermill": {
     "duration": 0.005846,
     "end_time": "2023-12-13T12:49:51.186782",
     "exception": false,
     "start_time": "2023-12-13T12:49:51.180936",
     "status": "completed"
    },
    "tags": []
   },
   "source": [
    "<h1 style=\"\n",
    "  font-family: Arial, Helvetica, sans-serif;\n",
    "  background: linear-gradient(to right, #f32170, #ff6b08, #cf23cf, #eedd44);\n",
    "  -webkit-text-fill-color: transparent;\n",
    "  -webkit-background-clip: text;\n",
    "\">| Reading dataset</h1>\n"
   ]
  },
  {
   "cell_type": "code",
   "execution_count": 325,
   "id": "56d30030",
   "metadata": {
    "_cell_guid": "b1076dfc-b9ad-4769-8c92-a6c4dae69d19",
    "_uuid": "8f2839f25d086af736a60e9eeb907d3b93b6e0e5",
    "execution": {
     "iopub.execute_input": "2023-12-13T12:49:51.201554Z",
     "iopub.status.busy": "2023-12-13T12:49:51.201137Z",
     "iopub.status.idle": "2023-12-13T12:49:52.090939Z",
     "shell.execute_reply": "2023-12-13T12:49:52.089718Z"
    },
    "papermill": {
     "duration": 0.900891,
     "end_time": "2023-12-13T12:49:52.093884",
     "exception": false,
     "start_time": "2023-12-13T12:49:51.192993",
     "status": "completed"
    },
    "tags": []
   },
   "outputs": [],
   "source": [
    "import pandas as pd"
   ]
  },
  {
   "cell_type": "code",
   "execution_count": 326,
   "id": "3bde07f1",
   "metadata": {
    "execution": {
     "iopub.execute_input": "2023-12-13T12:49:52.108928Z",
     "iopub.status.busy": "2023-12-13T12:49:52.108418Z",
     "iopub.status.idle": "2023-12-13T12:49:52.293332Z",
     "shell.execute_reply": "2023-12-13T12:49:52.292140Z"
    },
    "papermill": {
     "duration": 0.1962,
     "end_time": "2023-12-13T12:49:52.296381",
     "exception": false,
     "start_time": "2023-12-13T12:49:52.100181",
     "status": "completed"
    },
    "tags": []
   },
   "outputs": [
    {
     "data": {
      "text/html": [
       "<div>\n",
       "<style scoped>\n",
       "    .dataframe tbody tr th:only-of-type {\n",
       "        vertical-align: middle;\n",
       "    }\n",
       "\n",
       "    .dataframe tbody tr th {\n",
       "        vertical-align: top;\n",
       "    }\n",
       "\n",
       "    .dataframe thead th {\n",
       "        text-align: right;\n",
       "    }\n",
       "</style>\n",
       "<table border=\"1\" class=\"dataframe\">\n",
       "  <thead>\n",
       "    <tr style=\"text-align: right;\">\n",
       "      <th></th>\n",
       "      <th>Year</th>\n",
       "      <th>UsedOrNew</th>\n",
       "      <th>Transmission</th>\n",
       "      <th>Engine</th>\n",
       "      <th>DriveType</th>\n",
       "      <th>FuelType</th>\n",
       "      <th>FuelConsumption</th>\n",
       "      <th>Kilometres</th>\n",
       "      <th>CylindersinEngine</th>\n",
       "      <th>BodyType</th>\n",
       "      <th>Doors</th>\n",
       "      <th>Seats</th>\n",
       "      <th>Price</th>\n",
       "    </tr>\n",
       "  </thead>\n",
       "  <tbody>\n",
       "    <tr>\n",
       "      <th>0</th>\n",
       "      <td>2022.0</td>\n",
       "      <td>DEMO</td>\n",
       "      <td>Automatic</td>\n",
       "      <td>4 cyl, 2.2 L</td>\n",
       "      <td>AWD</td>\n",
       "      <td>Diesel</td>\n",
       "      <td>8.7 L / 100 km</td>\n",
       "      <td>5595.0</td>\n",
       "      <td>4 cyl</td>\n",
       "      <td>SUV</td>\n",
       "      <td>4 Doors</td>\n",
       "      <td>7 Seats</td>\n",
       "      <td>51990.0</td>\n",
       "    </tr>\n",
       "    <tr>\n",
       "      <th>1</th>\n",
       "      <td>2022.0</td>\n",
       "      <td>USED</td>\n",
       "      <td>Automatic</td>\n",
       "      <td>4 cyl, 1.5 L</td>\n",
       "      <td>Front</td>\n",
       "      <td>Premium</td>\n",
       "      <td>6.7 L / 100 km</td>\n",
       "      <td>16.0</td>\n",
       "      <td>4 cyl</td>\n",
       "      <td>Hatchback</td>\n",
       "      <td>5 Doors</td>\n",
       "      <td>5 Seats</td>\n",
       "      <td>19990.0</td>\n",
       "    </tr>\n",
       "    <tr>\n",
       "      <th>2</th>\n",
       "      <td>2022.0</td>\n",
       "      <td>USED</td>\n",
       "      <td>Automatic</td>\n",
       "      <td>4 cyl, 2 L</td>\n",
       "      <td>Rear</td>\n",
       "      <td>Premium</td>\n",
       "      <td>6.6 L / 100 km</td>\n",
       "      <td>8472.0</td>\n",
       "      <td>4 cyl</td>\n",
       "      <td>Coupe</td>\n",
       "      <td>2 Doors</td>\n",
       "      <td>4 Seats</td>\n",
       "      <td>108988.0</td>\n",
       "    </tr>\n",
       "    <tr>\n",
       "      <th>3</th>\n",
       "      <td>2011.0</td>\n",
       "      <td>USED</td>\n",
       "      <td>Automatic</td>\n",
       "      <td>8 cyl, 5.5 L</td>\n",
       "      <td>Rear</td>\n",
       "      <td>Premium</td>\n",
       "      <td>11 L / 100 km</td>\n",
       "      <td>136517.0</td>\n",
       "      <td>8 cyl</td>\n",
       "      <td>Coupe</td>\n",
       "      <td>2 Doors</td>\n",
       "      <td>4 Seats</td>\n",
       "      <td>32990.0</td>\n",
       "    </tr>\n",
       "    <tr>\n",
       "      <th>4</th>\n",
       "      <td>2022.0</td>\n",
       "      <td>USED</td>\n",
       "      <td>Automatic</td>\n",
       "      <td>4 cyl, 1.3 L</td>\n",
       "      <td>Front</td>\n",
       "      <td>Unleaded</td>\n",
       "      <td>6 L / 100 km</td>\n",
       "      <td>1035.0</td>\n",
       "      <td>4 cyl</td>\n",
       "      <td>SUV</td>\n",
       "      <td>4 Doors</td>\n",
       "      <td>5 Seats</td>\n",
       "      <td>34990.0</td>\n",
       "    </tr>\n",
       "  </tbody>\n",
       "</table>\n",
       "</div>"
      ],
      "text/plain": [
       "     Year UsedOrNew Transmission        Engine DriveType  FuelType  \\\n",
       "0  2022.0      DEMO    Automatic  4 cyl, 2.2 L       AWD    Diesel   \n",
       "1  2022.0      USED    Automatic  4 cyl, 1.5 L     Front   Premium   \n",
       "2  2022.0      USED    Automatic    4 cyl, 2 L      Rear   Premium   \n",
       "3  2011.0      USED    Automatic  8 cyl, 5.5 L      Rear   Premium   \n",
       "4  2022.0      USED    Automatic  4 cyl, 1.3 L     Front  Unleaded   \n",
       "\n",
       "  FuelConsumption  Kilometres CylindersinEngine   BodyType     Doors  \\\n",
       "0  8.7 L / 100 km      5595.0             4 cyl        SUV   4 Doors   \n",
       "1  6.7 L / 100 km        16.0             4 cyl  Hatchback   5 Doors   \n",
       "2  6.6 L / 100 km      8472.0             4 cyl      Coupe   2 Doors   \n",
       "3   11 L / 100 km    136517.0             8 cyl      Coupe   2 Doors   \n",
       "4    6 L / 100 km      1035.0             4 cyl        SUV   4 Doors   \n",
       "\n",
       "      Seats     Price  \n",
       "0   7 Seats   51990.0  \n",
       "1   5 Seats   19990.0  \n",
       "2   4 Seats  108988.0  \n",
       "3   4 Seats   32990.0  \n",
       "4   5 Seats   34990.0  "
      ]
     },
     "execution_count": 326,
     "metadata": {},
     "output_type": "execute_result"
    }
   ],
   "source": [
    "# reading dataset\n",
    "data = pd.read_csv(\n",
    "    'Australian Vehicle Prices.csv',\n",
    "    na_values=['POA', '-', '- / -'],\n",
    ")\n",
    "\n",
    "# For simplicity, we drop the columns with too many categorical values\n",
    "data.drop(columns=['Brand', 'Model', 'Car/Suv', 'Title', 'ColourExtInt', 'Location'], inplace=True)\n",
    "\n",
    "data.head()"
   ]
  },
  {
   "cell_type": "markdown",
   "id": "652a33ec",
   "metadata": {
    "papermill": {
     "duration": 0.006788,
     "end_time": "2023-12-13T12:49:52.310109",
     "exception": false,
     "start_time": "2023-12-13T12:49:52.303321",
     "status": "completed"
    },
    "tags": []
   },
   "source": [
    "<h1 style=\"\n",
    "  font-family: Arial, Helvetica, sans-serif;\n",
    "  background: linear-gradient(to right, #f32170, #ff6b08, #cf23cf, #eedd44);\n",
    "  -webkit-text-fill-color: transparent;\n",
    "  -webkit-background-clip: text;\n",
    "\">| Using Regular Expressions (Regex)</h1>\n",
    "We use regex to extract numbers from the following columns: `Engine`, `FuelConsumption`, `CylindersinEngine`, `Doors`, and `Seats`.\n",
    "\n",
    "Run the cells below."
   ]
  },
  {
   "cell_type": "code",
   "execution_count": 327,
   "id": "af22d6ec",
   "metadata": {
    "execution": {
     "iopub.execute_input": "2023-12-13T12:49:52.325570Z",
     "iopub.status.busy": "2023-12-13T12:49:52.325165Z",
     "iopub.status.idle": "2023-12-13T12:49:52.331926Z",
     "shell.execute_reply": "2023-12-13T12:49:52.330587Z"
    },
    "papermill": {
     "duration": 0.017798,
     "end_time": "2023-12-13T12:49:52.334461",
     "exception": false,
     "start_time": "2023-12-13T12:49:52.316663",
     "status": "completed"
    },
    "tags": []
   },
   "outputs": [],
   "source": [
    "# Helper function to extract numbers from string columns\n",
    "def extract_number(data: 'pd.DataFrame', \n",
    "                  col: 'str', \n",
    "                  pattern: 'str') -> 'pd.Series':\n",
    "    '''\n",
    "\n",
    "    Extracts a number using the given regex pattern from the given data and col, \n",
    "    converts the result to float, and returns the result as a pd.Series.\n",
    "    '''\n",
    "\n",
    "    return data[col].str.extract(pattern, expand=False).astype('float32')"
   ]
  },
  {
   "cell_type": "code",
   "execution_count": 328,
   "id": "28cceb3c",
   "metadata": {
    "execution": {
     "iopub.execute_input": "2023-12-13T12:49:52.349933Z",
     "iopub.status.busy": "2023-12-13T12:49:52.349535Z",
     "iopub.status.idle": "2023-12-13T12:49:52.509579Z",
     "shell.execute_reply": "2023-12-13T12:49:52.508398Z"
    },
    "papermill": {
     "duration": 0.170744,
     "end_time": "2023-12-13T12:49:52.512078",
     "exception": false,
     "start_time": "2023-12-13T12:49:52.341334",
     "status": "completed"
    },
    "tags": []
   },
   "outputs": [
    {
     "data": {
      "text/html": [
       "<div>\n",
       "<style scoped>\n",
       "    .dataframe tbody tr th:only-of-type {\n",
       "        vertical-align: middle;\n",
       "    }\n",
       "\n",
       "    .dataframe tbody tr th {\n",
       "        vertical-align: top;\n",
       "    }\n",
       "\n",
       "    .dataframe thead th {\n",
       "        text-align: right;\n",
       "    }\n",
       "</style>\n",
       "<table border=\"1\" class=\"dataframe\">\n",
       "  <thead>\n",
       "    <tr style=\"text-align: right;\">\n",
       "      <th></th>\n",
       "      <th>Year</th>\n",
       "      <th>UsedOrNew</th>\n",
       "      <th>Transmission</th>\n",
       "      <th>Engine</th>\n",
       "      <th>DriveType</th>\n",
       "      <th>FuelType</th>\n",
       "      <th>FuelConsumption</th>\n",
       "      <th>Kilometres</th>\n",
       "      <th>CylindersinEngine</th>\n",
       "      <th>BodyType</th>\n",
       "      <th>Doors</th>\n",
       "      <th>Seats</th>\n",
       "      <th>Price</th>\n",
       "    </tr>\n",
       "  </thead>\n",
       "  <tbody>\n",
       "    <tr>\n",
       "      <th>0</th>\n",
       "      <td>2022.0</td>\n",
       "      <td>DEMO</td>\n",
       "      <td>Automatic</td>\n",
       "      <td>2.2</td>\n",
       "      <td>AWD</td>\n",
       "      <td>Diesel</td>\n",
       "      <td>8.7</td>\n",
       "      <td>5595.0</td>\n",
       "      <td>4.0</td>\n",
       "      <td>SUV</td>\n",
       "      <td>4.0</td>\n",
       "      <td>7.0</td>\n",
       "      <td>51990.0</td>\n",
       "    </tr>\n",
       "    <tr>\n",
       "      <th>1</th>\n",
       "      <td>2022.0</td>\n",
       "      <td>USED</td>\n",
       "      <td>Automatic</td>\n",
       "      <td>1.5</td>\n",
       "      <td>Front</td>\n",
       "      <td>Premium</td>\n",
       "      <td>6.7</td>\n",
       "      <td>16.0</td>\n",
       "      <td>4.0</td>\n",
       "      <td>Hatchback</td>\n",
       "      <td>5.0</td>\n",
       "      <td>5.0</td>\n",
       "      <td>19990.0</td>\n",
       "    </tr>\n",
       "    <tr>\n",
       "      <th>2</th>\n",
       "      <td>2022.0</td>\n",
       "      <td>USED</td>\n",
       "      <td>Automatic</td>\n",
       "      <td>2.0</td>\n",
       "      <td>Rear</td>\n",
       "      <td>Premium</td>\n",
       "      <td>6.6</td>\n",
       "      <td>8472.0</td>\n",
       "      <td>4.0</td>\n",
       "      <td>Coupe</td>\n",
       "      <td>2.0</td>\n",
       "      <td>4.0</td>\n",
       "      <td>108988.0</td>\n",
       "    </tr>\n",
       "    <tr>\n",
       "      <th>3</th>\n",
       "      <td>2011.0</td>\n",
       "      <td>USED</td>\n",
       "      <td>Automatic</td>\n",
       "      <td>5.5</td>\n",
       "      <td>Rear</td>\n",
       "      <td>Premium</td>\n",
       "      <td>11.0</td>\n",
       "      <td>136517.0</td>\n",
       "      <td>8.0</td>\n",
       "      <td>Coupe</td>\n",
       "      <td>2.0</td>\n",
       "      <td>4.0</td>\n",
       "      <td>32990.0</td>\n",
       "    </tr>\n",
       "    <tr>\n",
       "      <th>4</th>\n",
       "      <td>2022.0</td>\n",
       "      <td>USED</td>\n",
       "      <td>Automatic</td>\n",
       "      <td>1.3</td>\n",
       "      <td>Front</td>\n",
       "      <td>Unleaded</td>\n",
       "      <td>6.0</td>\n",
       "      <td>1035.0</td>\n",
       "      <td>4.0</td>\n",
       "      <td>SUV</td>\n",
       "      <td>4.0</td>\n",
       "      <td>5.0</td>\n",
       "      <td>34990.0</td>\n",
       "    </tr>\n",
       "  </tbody>\n",
       "</table>\n",
       "</div>"
      ],
      "text/plain": [
       "     Year UsedOrNew Transmission  Engine DriveType  FuelType  FuelConsumption  \\\n",
       "0  2022.0      DEMO    Automatic     2.2       AWD    Diesel              8.7   \n",
       "1  2022.0      USED    Automatic     1.5     Front   Premium              6.7   \n",
       "2  2022.0      USED    Automatic     2.0      Rear   Premium              6.6   \n",
       "3  2011.0      USED    Automatic     5.5      Rear   Premium             11.0   \n",
       "4  2022.0      USED    Automatic     1.3     Front  Unleaded              6.0   \n",
       "\n",
       "   Kilometres  CylindersinEngine   BodyType  Doors  Seats     Price  \n",
       "0      5595.0                4.0        SUV    4.0    7.0   51990.0  \n",
       "1        16.0                4.0  Hatchback    5.0    5.0   19990.0  \n",
       "2      8472.0                4.0      Coupe    2.0    4.0  108988.0  \n",
       "3    136517.0                8.0      Coupe    2.0    4.0   32990.0  \n",
       "4      1035.0                4.0        SUV    4.0    5.0   34990.0  "
      ]
     },
     "execution_count": 328,
     "metadata": {},
     "output_type": "execute_result"
    }
   ],
   "source": [
    "# We use the previous hepler function to extract numbers from string columns\n",
    "data['Engine'] = extract_number(data, col='Engine', pattern=r'.*?(\\d+\\.?\\d*) L')\n",
    "data['FuelConsumption'] = extract_number(data, col='FuelConsumption', pattern=r'(\\d+\\.?\\d*) L.*')\n",
    "data['CylindersinEngine'] = extract_number(data, col='CylindersinEngine', pattern=r'(\\d+) (?:cyl|L)')\n",
    "data['Doors'] = extract_number(data, col='Doors', pattern=r'(\\d+) Doors')\n",
    "data['Seats'] = extract_number(data, col='Seats', pattern=r'(\\d+) Seats')\n",
    "\n",
    "data.head()"
   ]
  },
  {
   "cell_type": "markdown",
   "id": "55da7310",
   "metadata": {
    "papermill": {
     "duration": 0.006714,
     "end_time": "2023-12-13T12:49:52.525738",
     "exception": false,
     "start_time": "2023-12-13T12:49:52.519024",
     "status": "completed"
    },
    "tags": []
   },
   "source": [
    "<h1 style=\"\n",
    "  font-family: Arial, Helvetica, sans-serif;\n",
    "  background: linear-gradient(to right, #f32170, #ff6b08, #cf23cf, #eedd44);\n",
    "  -webkit-text-fill-color: transparent;\n",
    "  -webkit-background-clip: text;\n",
    "\">| Data Analysis</h1>\n",
    "\n",
    "Examine the dataset and answer the following questions:\n",
    "1. How many samples and features does this dataset contain?\n",
    "2. What is the target column?\n",
    "3. What is the data type of each column?\n",
    "4. Which columns are numeric? Which columns are categorical?\n",
    "5. Does this dataset contain missing values?"
   ]
  },
  {
   "cell_type": "code",
   "execution_count": 329,
   "id": "e0ce30cb",
   "metadata": {
    "execution": {
     "iopub.execute_input": "2023-12-13T12:49:52.541989Z",
     "iopub.status.busy": "2023-12-13T12:49:52.540798Z",
     "iopub.status.idle": "2023-12-13T12:49:52.545467Z",
     "shell.execute_reply": "2023-12-13T12:49:52.544632Z"
    },
    "papermill": {
     "duration": 0.015242,
     "end_time": "2023-12-13T12:49:52.547851",
     "exception": false,
     "start_time": "2023-12-13T12:49:52.532609",
     "status": "completed"
    },
    "tags": []
   },
   "outputs": [
    {
     "name": "stdout",
     "output_type": "stream",
     "text": [
      "Number of samples:  16734\n",
      "Number of features:  13\n"
     ]
    }
   ],
   "source": [
    "# Write your analysis code here\n",
    "# Feel free to create as many cells as you want\n",
    "# Number of Samples And Features \n",
    "samples , features = data.shape\n",
    "print(\"Number of samples: \", samples)\n",
    "print(\"Number of features: \", features)"
   ]
  },
  {
   "cell_type": "code",
   "execution_count": 330,
   "id": "de9546bd",
   "metadata": {},
   "outputs": [
    {
     "name": "stdout",
     "output_type": "stream",
     "text": [
      "Target column: Price\n"
     ]
    }
   ],
   "source": [
    "# Select Target Column\n",
    "target_column = 'Price'\n",
    "print(f\"Target column: {target_column}\")"
   ]
  },
  {
   "cell_type": "code",
   "execution_count": 331,
   "id": "f1decdd1",
   "metadata": {},
   "outputs": [
    {
     "data": {
      "text/plain": [
       "Year                 float64\n",
       "UsedOrNew             object\n",
       "Transmission          object\n",
       "Engine               float32\n",
       "DriveType             object\n",
       "FuelType              object\n",
       "FuelConsumption      float32\n",
       "Kilometres           float64\n",
       "CylindersinEngine    float32\n",
       "BodyType              object\n",
       "Doors                float32\n",
       "Seats                float32\n",
       "Price                float64\n",
       "dtype: object"
      ]
     },
     "execution_count": 331,
     "metadata": {},
     "output_type": "execute_result"
    }
   ],
   "source": [
    "# Display data types for each column\n",
    "data.dtypes"
   ]
  },
  {
   "cell_type": "code",
   "execution_count": 332,
   "id": "9d9d0143",
   "metadata": {},
   "outputs": [
    {
     "name": "stdout",
     "output_type": "stream",
     "text": [
      "Numeric columns:\n",
      "Index(['Year', 'Engine', 'FuelConsumption', 'Kilometres', 'CylindersinEngine',\n",
      "       'Doors', 'Seats', 'Price'],\n",
      "      dtype='object')\n",
      "----------------------------------------------------------------------\n",
      "Categorical columns:\n",
      "Index(['UsedOrNew', 'Transmission', 'DriveType', 'FuelType', 'BodyType'], dtype='object')\n"
     ]
    }
   ],
   "source": [
    "# select which column are categorical or numerical\n",
    "# Display data types for each column\n",
    "numeric_columns = data.select_dtypes(include=['number']).columns\n",
    "categorical_columns = data.select_dtypes(include=['object']).columns\n",
    "print(\"Numeric columns:\")\n",
    "print(numeric_columns)\n",
    "print(\"-\"*70)\n",
    "print(\"Categorical columns:\")\n",
    "print(categorical_columns)"
   ]
  },
  {
   "cell_type": "code",
   "execution_count": 333,
   "id": "8bb4adc9",
   "metadata": {},
   "outputs": [
    {
     "name": "stdout",
     "output_type": "stream",
     "text": [
      "\n",
      "Percentage of Missing values in each Feature\n",
      "Year                  0.005976\n",
      "UsedOrNew             0.005976\n",
      "Transmission          1.505916\n",
      "Engine               10.015537\n",
      "DriveType             0.005976\n",
      "FuelType              3.812597\n",
      "FuelConsumption      10.147006\n",
      "Kilometres            3.537708\n",
      "CylindersinEngine    10.009561\n",
      "BodyType              1.685192\n",
      "Doors                10.009561\n",
      "Seats                10.188837\n",
      "Price                 0.316720\n",
      "dtype: float64\n"
     ]
    }
   ],
   "source": [
    "# check missing values \n",
    "print(\"\\nPercentage of Missing values in each Feature\")\n",
    "print(data.isnull().sum()/len(data)*100)"
   ]
  },
  {
   "cell_type": "markdown",
   "id": "582fc453",
   "metadata": {
    "papermill": {
     "duration": 0.006854,
     "end_time": "2023-12-13T12:49:52.561770",
     "exception": false,
     "start_time": "2023-12-13T12:49:52.554916",
     "status": "completed"
    },
    "tags": []
   },
   "source": [
    "<h1 style=\"\n",
    "  font-family: Arial, Helvetica, sans-serif;\n",
    "  background: linear-gradient(to right, #f32170, #ff6b08, #cf23cf, #eedd44);\n",
    "  -webkit-text-fill-color: transparent;\n",
    "  -webkit-background-clip: text;\n",
    "\">| Data Cleaning</h1>\n",
    "\n",
    "Remove missing values (if any)"
   ]
  },
  {
   "cell_type": "code",
   "execution_count": 334,
   "id": "605a873b",
   "metadata": {
    "execution": {
     "iopub.execute_input": "2023-12-13T12:49:52.578116Z",
     "iopub.status.busy": "2023-12-13T12:49:52.576959Z",
     "iopub.status.idle": "2023-12-13T12:49:52.581578Z",
     "shell.execute_reply": "2023-12-13T12:49:52.580511Z"
    },
    "papermill": {
     "duration": 0.015121,
     "end_time": "2023-12-13T12:49:52.583899",
     "exception": false,
     "start_time": "2023-12-13T12:49:52.568778",
     "status": "completed"
    },
    "tags": []
   },
   "outputs": [
    {
     "name": "stdout",
     "output_type": "stream",
     "text": [
      "(14254, 13)\n"
     ]
    }
   ],
   "source": [
    "# Remove missing values here\n",
    "clean_data=data.dropna()\n",
    "clean_data=clean_data.drop_duplicates()\n",
    "print(clean_data.shape)# shape of data after removing missing values \n"
   ]
  },
  {
   "cell_type": "code",
   "execution_count": 335,
   "id": "a6c98d54",
   "metadata": {},
   "outputs": [
    {
     "data": {
      "text/plain": [
       "14.820126688179755"
      ]
     },
     "execution_count": 335,
     "metadata": {},
     "output_type": "execute_result"
    }
   ],
   "source": [
    "# percentage of data removed \n",
    "100-(clean_data.shape[0]/data.shape[0]*100)"
   ]
  },
  {
   "cell_type": "markdown",
   "id": "3aec54ff",
   "metadata": {
    "papermill": {
     "duration": 0.006709,
     "end_time": "2023-12-13T12:49:52.597953",
     "exception": false,
     "start_time": "2023-12-13T12:49:52.591244",
     "status": "completed"
    },
    "tags": []
   },
   "source": [
    "<h1 style=\"\n",
    "  font-family: Arial, Helvetica, sans-serif;\n",
    "  background: linear-gradient(to right, #f32170, #ff6b08, #cf23cf, #eedd44);\n",
    "  -webkit-text-fill-color: transparent;\n",
    "  -webkit-background-clip: text;\n",
    "\">| Data Encoding</h1>\n",
    "\n",
    "Convert the categorical features to numeric"
   ]
  },
  {
   "cell_type": "code",
   "execution_count": 336,
   "id": "02238800",
   "metadata": {},
   "outputs": [
    {
     "data": {
      "text/html": [
       "<div>\n",
       "<style scoped>\n",
       "    .dataframe tbody tr th:only-of-type {\n",
       "        vertical-align: middle;\n",
       "    }\n",
       "\n",
       "    .dataframe tbody tr th {\n",
       "        vertical-align: top;\n",
       "    }\n",
       "\n",
       "    .dataframe thead th {\n",
       "        text-align: right;\n",
       "    }\n",
       "</style>\n",
       "<table border=\"1\" class=\"dataframe\">\n",
       "  <thead>\n",
       "    <tr style=\"text-align: right;\">\n",
       "      <th></th>\n",
       "      <th>Year</th>\n",
       "      <th>Engine</th>\n",
       "      <th>FuelConsumption</th>\n",
       "      <th>Kilometres</th>\n",
       "      <th>CylindersinEngine</th>\n",
       "      <th>Doors</th>\n",
       "      <th>Seats</th>\n",
       "      <th>Price</th>\n",
       "      <th>UsedOrNew_NEW</th>\n",
       "      <th>UsedOrNew_USED</th>\n",
       "      <th>...</th>\n",
       "      <th>FuelType_Unleaded</th>\n",
       "      <th>BodyType_Convertible</th>\n",
       "      <th>BodyType_Coupe</th>\n",
       "      <th>BodyType_Hatchback</th>\n",
       "      <th>BodyType_Other</th>\n",
       "      <th>BodyType_People Mover</th>\n",
       "      <th>BodyType_SUV</th>\n",
       "      <th>BodyType_Sedan</th>\n",
       "      <th>BodyType_Ute / Tray</th>\n",
       "      <th>BodyType_Wagon</th>\n",
       "    </tr>\n",
       "  </thead>\n",
       "  <tbody>\n",
       "    <tr>\n",
       "      <th>0</th>\n",
       "      <td>2022.0</td>\n",
       "      <td>2.2</td>\n",
       "      <td>8.7</td>\n",
       "      <td>5595.0</td>\n",
       "      <td>4.0</td>\n",
       "      <td>4.0</td>\n",
       "      <td>7.0</td>\n",
       "      <td>51990.0</td>\n",
       "      <td>0</td>\n",
       "      <td>0</td>\n",
       "      <td>...</td>\n",
       "      <td>0</td>\n",
       "      <td>0</td>\n",
       "      <td>0</td>\n",
       "      <td>0</td>\n",
       "      <td>0</td>\n",
       "      <td>0</td>\n",
       "      <td>1</td>\n",
       "      <td>0</td>\n",
       "      <td>0</td>\n",
       "      <td>0</td>\n",
       "    </tr>\n",
       "    <tr>\n",
       "      <th>1</th>\n",
       "      <td>2022.0</td>\n",
       "      <td>1.5</td>\n",
       "      <td>6.7</td>\n",
       "      <td>16.0</td>\n",
       "      <td>4.0</td>\n",
       "      <td>5.0</td>\n",
       "      <td>5.0</td>\n",
       "      <td>19990.0</td>\n",
       "      <td>0</td>\n",
       "      <td>1</td>\n",
       "      <td>...</td>\n",
       "      <td>0</td>\n",
       "      <td>0</td>\n",
       "      <td>0</td>\n",
       "      <td>1</td>\n",
       "      <td>0</td>\n",
       "      <td>0</td>\n",
       "      <td>0</td>\n",
       "      <td>0</td>\n",
       "      <td>0</td>\n",
       "      <td>0</td>\n",
       "    </tr>\n",
       "    <tr>\n",
       "      <th>2</th>\n",
       "      <td>2022.0</td>\n",
       "      <td>2.0</td>\n",
       "      <td>6.6</td>\n",
       "      <td>8472.0</td>\n",
       "      <td>4.0</td>\n",
       "      <td>2.0</td>\n",
       "      <td>4.0</td>\n",
       "      <td>108988.0</td>\n",
       "      <td>0</td>\n",
       "      <td>1</td>\n",
       "      <td>...</td>\n",
       "      <td>0</td>\n",
       "      <td>0</td>\n",
       "      <td>1</td>\n",
       "      <td>0</td>\n",
       "      <td>0</td>\n",
       "      <td>0</td>\n",
       "      <td>0</td>\n",
       "      <td>0</td>\n",
       "      <td>0</td>\n",
       "      <td>0</td>\n",
       "    </tr>\n",
       "    <tr>\n",
       "      <th>3</th>\n",
       "      <td>2011.0</td>\n",
       "      <td>5.5</td>\n",
       "      <td>11.0</td>\n",
       "      <td>136517.0</td>\n",
       "      <td>8.0</td>\n",
       "      <td>2.0</td>\n",
       "      <td>4.0</td>\n",
       "      <td>32990.0</td>\n",
       "      <td>0</td>\n",
       "      <td>1</td>\n",
       "      <td>...</td>\n",
       "      <td>0</td>\n",
       "      <td>0</td>\n",
       "      <td>1</td>\n",
       "      <td>0</td>\n",
       "      <td>0</td>\n",
       "      <td>0</td>\n",
       "      <td>0</td>\n",
       "      <td>0</td>\n",
       "      <td>0</td>\n",
       "      <td>0</td>\n",
       "    </tr>\n",
       "    <tr>\n",
       "      <th>4</th>\n",
       "      <td>2022.0</td>\n",
       "      <td>1.3</td>\n",
       "      <td>6.0</td>\n",
       "      <td>1035.0</td>\n",
       "      <td>4.0</td>\n",
       "      <td>4.0</td>\n",
       "      <td>5.0</td>\n",
       "      <td>34990.0</td>\n",
       "      <td>0</td>\n",
       "      <td>1</td>\n",
       "      <td>...</td>\n",
       "      <td>1</td>\n",
       "      <td>0</td>\n",
       "      <td>0</td>\n",
       "      <td>0</td>\n",
       "      <td>0</td>\n",
       "      <td>0</td>\n",
       "      <td>1</td>\n",
       "      <td>0</td>\n",
       "      <td>0</td>\n",
       "      <td>0</td>\n",
       "    </tr>\n",
       "  </tbody>\n",
       "</table>\n",
       "<p>5 rows × 30 columns</p>\n",
       "</div>"
      ],
      "text/plain": [
       "     Year  Engine  FuelConsumption  Kilometres  CylindersinEngine  Doors  \\\n",
       "0  2022.0     2.2              8.7      5595.0                4.0    4.0   \n",
       "1  2022.0     1.5              6.7        16.0                4.0    5.0   \n",
       "2  2022.0     2.0              6.6      8472.0                4.0    2.0   \n",
       "3  2011.0     5.5             11.0    136517.0                8.0    2.0   \n",
       "4  2022.0     1.3              6.0      1035.0                4.0    4.0   \n",
       "\n",
       "   Seats     Price  UsedOrNew_NEW  UsedOrNew_USED  ...  FuelType_Unleaded  \\\n",
       "0    7.0   51990.0              0               0  ...                  0   \n",
       "1    5.0   19990.0              0               1  ...                  0   \n",
       "2    4.0  108988.0              0               1  ...                  0   \n",
       "3    4.0   32990.0              0               1  ...                  0   \n",
       "4    5.0   34990.0              0               1  ...                  1   \n",
       "\n",
       "   BodyType_Convertible  BodyType_Coupe  BodyType_Hatchback  BodyType_Other  \\\n",
       "0                     0               0                   0               0   \n",
       "1                     0               0                   1               0   \n",
       "2                     0               1                   0               0   \n",
       "3                     0               1                   0               0   \n",
       "4                     0               0                   0               0   \n",
       "\n",
       "   BodyType_People Mover  BodyType_SUV  BodyType_Sedan  BodyType_Ute / Tray  \\\n",
       "0                      0             1               0                    0   \n",
       "1                      0             0               0                    0   \n",
       "2                      0             0               0                    0   \n",
       "3                      0             0               0                    0   \n",
       "4                      0             1               0                    0   \n",
       "\n",
       "   BodyType_Wagon  \n",
       "0               0  \n",
       "1               0  \n",
       "2               0  \n",
       "3               0  \n",
       "4               0  \n",
       "\n",
       "[5 rows x 30 columns]"
      ]
     },
     "execution_count": 336,
     "metadata": {},
     "output_type": "execute_result"
    }
   ],
   "source": [
    "# Use a suitable encoding to convert categorical features to numeric\n",
    "data_encoded = pd.get_dummies(clean_data, columns=categorical_columns, drop_first=True)\n",
    "# remove false \n",
    "data_encoded.replace({False: 0, True: 1}, inplace=True)\n",
    "# Display the first few rows of the encoded data\n",
    "data_encoded.head()"
   ]
  },
  {
   "cell_type": "markdown",
   "id": "89cf5ed9",
   "metadata": {
    "papermill": {
     "duration": 0.006755,
     "end_time": "2023-12-13T12:49:52.634019",
     "exception": false,
     "start_time": "2023-12-13T12:49:52.627264",
     "status": "completed"
    },
    "tags": []
   },
   "source": [
    "<h1 style=\"\n",
    "  font-family: Arial, Helvetica, sans-serif;\n",
    "  background: linear-gradient(to right, #f32170, #ff6b08, #cf23cf, #eedd44);\n",
    "  -webkit-text-fill-color: transparent;\n",
    "  -webkit-background-clip: text;\n",
    "\">| Data Splitting</h1>\n",
    "\n",
    "Split the dataset into\n",
    "- Input and output\n",
    "- Training and test sets"
   ]
  },
  {
   "cell_type": "code",
   "execution_count": 337,
   "id": "65cd1c84",
   "metadata": {},
   "outputs": [],
   "source": [
    "# Split the input and output to training and test sets\n",
    "from sklearn.model_selection import train_test_split"
   ]
  },
  {
   "cell_type": "code",
   "execution_count": 338,
   "id": "a002b97e",
   "metadata": {
    "execution": {
     "iopub.execute_input": "2023-12-13T12:49:52.650246Z",
     "iopub.status.busy": "2023-12-13T12:49:52.649777Z",
     "iopub.status.idle": "2023-12-13T12:49:52.654380Z",
     "shell.execute_reply": "2023-12-13T12:49:52.653314Z"
    },
    "papermill": {
     "duration": 0.015744,
     "end_time": "2023-12-13T12:49:52.656884",
     "exception": false,
     "start_time": "2023-12-13T12:49:52.641140",
     "status": "completed"
    },
    "tags": []
   },
   "outputs": [
    {
     "name": "stdout",
     "output_type": "stream",
     "text": [
      "(14254, 29)\n",
      "(14254,)\n"
     ]
    }
   ],
   "source": [
    "# Split the dataset to input and output\n",
    "data_input = data_encoded.drop(columns=[target_column])\n",
    "data_output= data_encoded[target_column]\n",
    "print(data_input.shape)\n",
    "print(data_output.shape)\n",
    "\n"
   ]
  },
  {
   "cell_type": "code",
   "execution_count": 339,
   "id": "b52338ee",
   "metadata": {},
   "outputs": [
    {
     "name": "stdout",
     "output_type": "stream",
     "text": [
      "(9977, 29)\n",
      "(9977,)\n",
      "--------------------\n",
      "--------------------\n",
      "(4277, 29)\n",
      "(4277,)\n"
     ]
    }
   ],
   "source": [
    "\n",
    "# test size is 30% of the dataset\n",
    "x_train,x_test,y_train,y_test = train_test_split(data_input, data_output, \n",
    "                                     test_size=0.3, \n",
    "                                     random_state=0)\n",
    "\n",
    "# train size is 80% of the dataset\n",
    "# x_train,x_val,y_train,y_val = train_test_split(x_train, y_train, \n",
    "#                                                test_size=0.2,\n",
    "#                                                random_state=42)\n",
    "print(x_train.shape)\n",
    "print(y_train.shape)\n",
    "print('-'*20)\n",
    "# print(x_val.shape)\n",
    "# print(y_val.shape)\n",
    "print('-'*20)\n",
    "print(x_test.shape)\n",
    "print(y_test.shape)"
   ]
  },
  {
   "cell_type": "markdown",
   "id": "e7f7a738",
   "metadata": {
    "papermill": {
     "duration": 0.006727,
     "end_time": "2023-12-13T12:49:52.693971",
     "exception": false,
     "start_time": "2023-12-13T12:49:52.687244",
     "status": "completed"
    },
    "tags": []
   },
   "source": [
    "<h1 style=\"\n",
    "  font-family: Arial, Helvetica, sans-serif;\n",
    "  background: linear-gradient(to right, #f32170, #ff6b08, #cf23cf, #eedd44);\n",
    "  -webkit-text-fill-color: transparent;\n",
    "  -webkit-background-clip: text;\n",
    "\">| Linear Regression</h1>\n",
    "\n",
    "Train a linear regression model and calculate its $R^2$ (r2_score) for training and test sets"
   ]
  },
  {
   "cell_type": "code",
   "execution_count": 340,
   "id": "be911ee0",
   "metadata": {},
   "outputs": [],
   "source": [
    "from sklearn.linear_model import LinearRegression\n",
    "from sklearn.metrics import r2_score\n",
    "from sklearn.preprocessing import PolynomialFeatures, StandardScaler\n",
    "from sklearn.pipeline import make_pipeline"
   ]
  },
  {
   "cell_type": "code",
   "execution_count": 341,
   "id": "650a6866",
   "metadata": {},
   "outputs": [],
   "source": [
    "# Create a linear regression model with polynomial features and scaling\n",
    "poly_model = make_pipeline(\n",
    "    PolynomialFeatures(degree=1),  # You can adjust the degree based on your needs\n",
    "    StandardScaler(),\n",
    "    \n",
    "    LinearRegression(\n",
    "        fit_intercept=True,  # Whether to calculate the intercept for this model\n",
    "        n_jobs=None             # Number of CPU cores used during the cross-validation loop; None means 1\n",
    "    )\n",
    "    \n",
    "\n",
    ")"
   ]
  },
  {
   "cell_type": "code",
   "execution_count": 342,
   "id": "40d36223",
   "metadata": {},
   "outputs": [
    {
     "data": {
      "text/html": [
       "<style>#sk-container-id-14 {color: black;}#sk-container-id-14 pre{padding: 0;}#sk-container-id-14 div.sk-toggleable {background-color: white;}#sk-container-id-14 label.sk-toggleable__label {cursor: pointer;display: block;width: 100%;margin-bottom: 0;padding: 0.3em;box-sizing: border-box;text-align: center;}#sk-container-id-14 label.sk-toggleable__label-arrow:before {content: \"▸\";float: left;margin-right: 0.25em;color: #696969;}#sk-container-id-14 label.sk-toggleable__label-arrow:hover:before {color: black;}#sk-container-id-14 div.sk-estimator:hover label.sk-toggleable__label-arrow:before {color: black;}#sk-container-id-14 div.sk-toggleable__content {max-height: 0;max-width: 0;overflow: hidden;text-align: left;background-color: #f0f8ff;}#sk-container-id-14 div.sk-toggleable__content pre {margin: 0.2em;color: black;border-radius: 0.25em;background-color: #f0f8ff;}#sk-container-id-14 input.sk-toggleable__control:checked~div.sk-toggleable__content {max-height: 200px;max-width: 100%;overflow: auto;}#sk-container-id-14 input.sk-toggleable__control:checked~label.sk-toggleable__label-arrow:before {content: \"▾\";}#sk-container-id-14 div.sk-estimator input.sk-toggleable__control:checked~label.sk-toggleable__label {background-color: #d4ebff;}#sk-container-id-14 div.sk-label input.sk-toggleable__control:checked~label.sk-toggleable__label {background-color: #d4ebff;}#sk-container-id-14 input.sk-hidden--visually {border: 0;clip: rect(1px 1px 1px 1px);clip: rect(1px, 1px, 1px, 1px);height: 1px;margin: -1px;overflow: hidden;padding: 0;position: absolute;width: 1px;}#sk-container-id-14 div.sk-estimator {font-family: monospace;background-color: #f0f8ff;border: 1px dotted black;border-radius: 0.25em;box-sizing: border-box;margin-bottom: 0.5em;}#sk-container-id-14 div.sk-estimator:hover {background-color: #d4ebff;}#sk-container-id-14 div.sk-parallel-item::after {content: \"\";width: 100%;border-bottom: 1px solid gray;flex-grow: 1;}#sk-container-id-14 div.sk-label:hover label.sk-toggleable__label {background-color: #d4ebff;}#sk-container-id-14 div.sk-serial::before {content: \"\";position: absolute;border-left: 1px solid gray;box-sizing: border-box;top: 0;bottom: 0;left: 50%;z-index: 0;}#sk-container-id-14 div.sk-serial {display: flex;flex-direction: column;align-items: center;background-color: white;padding-right: 0.2em;padding-left: 0.2em;position: relative;}#sk-container-id-14 div.sk-item {position: relative;z-index: 1;}#sk-container-id-14 div.sk-parallel {display: flex;align-items: stretch;justify-content: center;background-color: white;position: relative;}#sk-container-id-14 div.sk-item::before, #sk-container-id-14 div.sk-parallel-item::before {content: \"\";position: absolute;border-left: 1px solid gray;box-sizing: border-box;top: 0;bottom: 0;left: 50%;z-index: -1;}#sk-container-id-14 div.sk-parallel-item {display: flex;flex-direction: column;z-index: 1;position: relative;background-color: white;}#sk-container-id-14 div.sk-parallel-item:first-child::after {align-self: flex-end;width: 50%;}#sk-container-id-14 div.sk-parallel-item:last-child::after {align-self: flex-start;width: 50%;}#sk-container-id-14 div.sk-parallel-item:only-child::after {width: 0;}#sk-container-id-14 div.sk-dashed-wrapped {border: 1px dashed gray;margin: 0 0.4em 0.5em 0.4em;box-sizing: border-box;padding-bottom: 0.4em;background-color: white;}#sk-container-id-14 div.sk-label label {font-family: monospace;font-weight: bold;display: inline-block;line-height: 1.2em;}#sk-container-id-14 div.sk-label-container {text-align: center;}#sk-container-id-14 div.sk-container {/* jupyter's `normalize.less` sets `[hidden] { display: none; }` but bootstrap.min.css set `[hidden] { display: none !important; }` so we also need the `!important` here to be able to override the default hidden behavior on the sphinx rendered scikit-learn.org. See: https://github.com/scikit-learn/scikit-learn/issues/21755 */display: inline-block !important;position: relative;}#sk-container-id-14 div.sk-text-repr-fallback {display: none;}</style><div id=\"sk-container-id-14\" class=\"sk-top-container\"><div class=\"sk-text-repr-fallback\"><pre>Pipeline(steps=[(&#x27;polynomialfeatures&#x27;, PolynomialFeatures(degree=1)),\n",
       "                (&#x27;standardscaler&#x27;, StandardScaler()),\n",
       "                (&#x27;linearregression&#x27;, LinearRegression())])</pre><b>In a Jupyter environment, please rerun this cell to show the HTML representation or trust the notebook. <br />On GitHub, the HTML representation is unable to render, please try loading this page with nbviewer.org.</b></div><div class=\"sk-container\" hidden><div class=\"sk-item sk-dashed-wrapped\"><div class=\"sk-label-container\"><div class=\"sk-label sk-toggleable\"><input class=\"sk-toggleable__control sk-hidden--visually\" id=\"sk-estimator-id-53\" type=\"checkbox\" ><label for=\"sk-estimator-id-53\" class=\"sk-toggleable__label sk-toggleable__label-arrow\">Pipeline</label><div class=\"sk-toggleable__content\"><pre>Pipeline(steps=[(&#x27;polynomialfeatures&#x27;, PolynomialFeatures(degree=1)),\n",
       "                (&#x27;standardscaler&#x27;, StandardScaler()),\n",
       "                (&#x27;linearregression&#x27;, LinearRegression())])</pre></div></div></div><div class=\"sk-serial\"><div class=\"sk-item\"><div class=\"sk-estimator sk-toggleable\"><input class=\"sk-toggleable__control sk-hidden--visually\" id=\"sk-estimator-id-54\" type=\"checkbox\" ><label for=\"sk-estimator-id-54\" class=\"sk-toggleable__label sk-toggleable__label-arrow\">PolynomialFeatures</label><div class=\"sk-toggleable__content\"><pre>PolynomialFeatures(degree=1)</pre></div></div></div><div class=\"sk-item\"><div class=\"sk-estimator sk-toggleable\"><input class=\"sk-toggleable__control sk-hidden--visually\" id=\"sk-estimator-id-55\" type=\"checkbox\" ><label for=\"sk-estimator-id-55\" class=\"sk-toggleable__label sk-toggleable__label-arrow\">StandardScaler</label><div class=\"sk-toggleable__content\"><pre>StandardScaler()</pre></div></div></div><div class=\"sk-item\"><div class=\"sk-estimator sk-toggleable\"><input class=\"sk-toggleable__control sk-hidden--visually\" id=\"sk-estimator-id-56\" type=\"checkbox\" ><label for=\"sk-estimator-id-56\" class=\"sk-toggleable__label sk-toggleable__label-arrow\">LinearRegression</label><div class=\"sk-toggleable__content\"><pre>LinearRegression()</pre></div></div></div></div></div></div></div>"
      ],
      "text/plain": [
       "Pipeline(steps=[('polynomialfeatures', PolynomialFeatures(degree=1)),\n",
       "                ('standardscaler', StandardScaler()),\n",
       "                ('linearregression', LinearRegression())])"
      ]
     },
     "execution_count": 342,
     "metadata": {},
     "output_type": "execute_result"
    }
   ],
   "source": [
    "poly_model.fit(x_train, y_train)"
   ]
  },
  {
   "cell_type": "code",
   "execution_count": 343,
   "id": "d7b6be36",
   "metadata": {},
   "outputs": [],
   "source": [
    "# Make predictions for training and test sets\n",
    "y_train_pred = poly_model.predict(x_train)\n",
    "# y_val_pred = poly_model.predict(x_val)\n",
    "y_test_pred = poly_model.predict(x_test)"
   ]
  },
  {
   "cell_type": "code",
   "execution_count": 344,
   "id": "f8db192d",
   "metadata": {},
   "outputs": [],
   "source": [
    "# Calculate R2 scores for training and test sets with the polynomial model\n",
    "r2_train_poly = r2_score(y_train, y_train_pred)\n",
    "# r2_val_poly = r2_score(y_val, y_val_pred)\n",
    "r2_test_poly = r2_score(y_test, y_test_pred)\n"
   ]
  },
  {
   "cell_type": "markdown",
   "id": "0a4d5d32",
   "metadata": {
    "papermill": {
     "duration": 0.006828,
     "end_time": "2023-12-13T12:49:52.729999",
     "exception": false,
     "start_time": "2023-12-13T12:49:52.723171",
     "status": "completed"
    },
    "tags": []
   },
   "source": [
    "Answer the following questions:\n",
    "1. What is the $R^2$ value for the training set?\n",
    "2. What is the $R^2$ value for the test set?\n",
    "3. Does this model overfit the training set? Why/why not?\n",
    "4. Does this model underfit the training set? Why/why not?"
   ]
  },
  {
   "cell_type": "code",
   "execution_count": 345,
   "id": "5a67e15c",
   "metadata": {
    "papermill": {
     "duration": 0.006684,
     "end_time": "2023-12-13T12:49:52.743765",
     "exception": false,
     "start_time": "2023-12-13T12:49:52.737081",
     "status": "completed"
    },
    "tags": []
   },
   "outputs": [
    {
     "name": "stdout",
     "output_type": "stream",
     "text": [
      "R2 value for the training set (Polynomial): 0.5478858370872844\n",
      "R2 value for the test set (Polynomial): 0.5435614130189962\n"
     ]
    }
   ],
   "source": [
    "# Display the R2 scores for the polynomial model\n",
    "print(f\"R2 value for the training set (Polynomial): {r2_train_poly}\")\n",
    "print(f\"R2 value for the test set (Polynomial): {r2_test_poly}\")"
   ]
  },
  {
   "cell_type": "code",
   "execution_count": 346,
   "id": "e21bc2a8",
   "metadata": {},
   "outputs": [
    {
     "name": "stdout",
     "output_type": "stream",
     "text": [
      "The model not overfits the training set as 0.004324424068288257 is too small to be considered\n"
     ]
    }
   ],
   "source": [
    "# Check if the model overfits the training set\n",
    "diff_overfit=r2_train_poly-r2_test_poly\n",
    "\n",
    "print(f\"The model not overfits the training set as {diff_overfit} is too small to be considered\")"
   ]
  },
  {
   "cell_type": "code",
   "execution_count": 347,
   "id": "29c90e17",
   "metadata": {},
   "outputs": [
    {
     "name": "stdout",
     "output_type": "stream",
     "text": [
      "The model underfits the training set, as R2 is 0.5478858370872844.\n"
     ]
    }
   ],
   "source": [
    "# Check if the model underfits the training set\n",
    "#assume we have threshold value considering 0.6 based on your needs\n",
    "underfitting = r2_train_poly<0.6\n",
    "print(f\"The model {'underfits' if underfitting else 'does not underfit'} the training set, as R2 is {r2_train_poly}.\")\n"
   ]
  },
  {
   "cell_type": "code",
   "execution_count": null,
   "id": "85067bc1",
   "metadata": {},
   "outputs": [],
   "source": []
  }
 ],
 "metadata": {
  "kaggle": {
   "accelerator": "none",
   "dataSources": [
    {
     "datasetId": 4065736,
     "sourceId": 7062095,
     "sourceType": "datasetVersion"
    }
   ],
   "dockerImageVersionId": 30587,
   "isGpuEnabled": false,
   "isInternetEnabled": true,
   "language": "python",
   "sourceType": "notebook"
  },
  "kernelspec": {
   "display_name": "Python 3 (ipykernel)",
   "language": "python",
   "name": "python3"
  },
  "language_info": {
   "codemirror_mode": {
    "name": "ipython",
    "version": 3
   },
   "file_extension": ".py",
   "mimetype": "text/x-python",
   "name": "python",
   "nbconvert_exporter": "python",
   "pygments_lexer": "ipython3",
   "version": "3.11.5"
  },
  "papermill": {
   "default_parameters": {},
   "duration": 5.909857,
   "end_time": "2023-12-13T12:49:53.272168",
   "environment_variables": {},
   "exception": null,
   "input_path": "__notebook__.ipynb",
   "output_path": "__notebook__.ipynb",
   "parameters": {},
   "start_time": "2023-12-13T12:49:47.362311",
   "version": "2.4.0"
  }
 },
 "nbformat": 4,
 "nbformat_minor": 5
}
