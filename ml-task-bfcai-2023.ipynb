{
 "cells": [
  {
   "cell_type": "markdown",
   "id": "507fb2e9",
   "metadata": {
    "papermill": {
     "duration": 0.006584,
     "end_time": "2023-12-13T12:49:51.160684",
     "exception": false,
     "start_time": "2023-12-13T12:49:51.154100",
     "status": "completed"
    },
    "tags": []
   },
   "source": [
    "<h1 style=\"\n",
    "  font-family: Arial, Helvetica, sans-serif;\n",
    "  background: linear-gradient(to right, #f32170, #ff6b08, #cf23cf, #eedd44);\n",
    "  -webkit-text-fill-color: transparent;\n",
    "  -webkit-background-clip: text;\n",
    "\">| Australian Vehicle Price Prediction</h1>\n",
    "This is a Machine Learning task for the students of BFCAI.\n",
    "\n",
    "Dataset link: https://www.kaggle.com/datasets/nelgiriyewithana/australian-vehicle-prices/\n",
    "\n",
    "The main objective of this task is to train a model to predict a vehicle price given some features about the vehicle."
   ]
  },
  {
   "cell_type": "markdown",
   "id": "9f2a3b38",
   "metadata": {
    "papermill": {
     "duration": 0.005792,
     "end_time": "2023-12-13T12:49:51.174631",
     "exception": false,
     "start_time": "2023-12-13T12:49:51.168839",
     "status": "completed"
    },
    "tags": []
   },
   "source": [
    "<h4 style=\"\n",
    "  font-family: Arial, Helvetica, sans-serif;\n",
    "  background: linear-gradient(to right, #f32170, #ff6b08, #cf23cf, #eedd44);\n",
    "  -webkit-text-fill-color: transparent;\n",
    "  -webkit-background-clip: text;\n",
    "\">| Team members</h4>\n",
    "\n",
    "Write team member names (**double click to edit**)\n",
    "1. (first student)\n",
    "2. (second student)\n",
    "3. (third student)\n",
    "4. etc."
   ]
  },
  {
   "cell_type": "markdown",
   "id": "857c3a04",
   "metadata": {
    "papermill": {
     "duration": 0.005846,
     "end_time": "2023-12-13T12:49:51.186782",
     "exception": false,
     "start_time": "2023-12-13T12:49:51.180936",
     "status": "completed"
    },
    "tags": []
   },
   "source": [
    "<h1 style=\"\n",
    "  font-family: Arial, Helvetica, sans-serif;\n",
    "  background: linear-gradient(to right, #f32170, #ff6b08, #cf23cf, #eedd44);\n",
    "  -webkit-text-fill-color: transparent;\n",
    "  -webkit-background-clip: text;\n",
    "\">| Reading dataset</h1>\n"
   ]
  },
  {
   "cell_type": "code",
   "execution_count": null,
   "id": "56d30030",
   "metadata": {
    "_cell_guid": "b1076dfc-b9ad-4769-8c92-a6c4dae69d19",
    "_uuid": "8f2839f25d086af736a60e9eeb907d3b93b6e0e5",
    "execution": {
     "iopub.execute_input": "2023-12-13T12:49:51.201554Z",
     "iopub.status.busy": "2023-12-13T12:49:51.201137Z",
     "iopub.status.idle": "2023-12-13T12:49:52.090939Z",
     "shell.execute_reply": "2023-12-13T12:49:52.089718Z"
    },
    "papermill": {
     "duration": 0.900891,
     "end_time": "2023-12-13T12:49:52.093884",
     "exception": false,
     "start_time": "2023-12-13T12:49:51.192993",
     "status": "completed"
    },
    "tags": []
   },
   "outputs": [],
   "source": [
    "import pandas as pd"
   ]
  },
  {
   "cell_type": "code",
   "execution_count": null,
   "id": "3bde07f1",
   "metadata": {
    "execution": {
     "iopub.execute_input": "2023-12-13T12:49:52.108928Z",
     "iopub.status.busy": "2023-12-13T12:49:52.108418Z",
     "iopub.status.idle": "2023-12-13T12:49:52.293332Z",
     "shell.execute_reply": "2023-12-13T12:49:52.292140Z"
    },
    "papermill": {
     "duration": 0.1962,
     "end_time": "2023-12-13T12:49:52.296381",
     "exception": false,
     "start_time": "2023-12-13T12:49:52.100181",
     "status": "completed"
    },
    "tags": []
   },
   "outputs": [
    {
     "data": {
      "text/html": [
       "<div>\n",
       "<style scoped>\n",
       "    .dataframe tbody tr th:only-of-type {\n",
       "        vertical-align: middle;\n",
       "    }\n",
       "\n",
       "    .dataframe tbody tr th {\n",
       "        vertical-align: top;\n",
       "    }\n",
       "\n",
       "    .dataframe thead th {\n",
       "        text-align: right;\n",
       "    }\n",
       "</style>\n",
       "<table border=\"1\" class=\"dataframe\">\n",
       "  <thead>\n",
       "    <tr style=\"text-align: right;\">\n",
       "      <th></th>\n",
       "      <th>Year</th>\n",
       "      <th>UsedOrNew</th>\n",
       "      <th>Transmission</th>\n",
       "      <th>Engine</th>\n",
       "      <th>DriveType</th>\n",
       "      <th>FuelType</th>\n",
       "      <th>FuelConsumption</th>\n",
       "      <th>Kilometres</th>\n",
       "      <th>CylindersinEngine</th>\n",
       "      <th>BodyType</th>\n",
       "      <th>Doors</th>\n",
       "      <th>Seats</th>\n",
       "      <th>Price</th>\n",
       "    </tr>\n",
       "  </thead>\n",
       "  <tbody>\n",
       "    <tr>\n",
       "      <th>0</th>\n",
       "      <td>2022.0</td>\n",
       "      <td>DEMO</td>\n",
       "      <td>Automatic</td>\n",
       "      <td>4 cyl, 2.2 L</td>\n",
       "      <td>AWD</td>\n",
       "      <td>Diesel</td>\n",
       "      <td>8.7 L / 100 km</td>\n",
       "      <td>5595.0</td>\n",
       "      <td>4 cyl</td>\n",
       "      <td>SUV</td>\n",
       "      <td>4 Doors</td>\n",
       "      <td>7 Seats</td>\n",
       "      <td>51990.0</td>\n",
       "    </tr>\n",
       "    <tr>\n",
       "      <th>1</th>\n",
       "      <td>2022.0</td>\n",
       "      <td>USED</td>\n",
       "      <td>Automatic</td>\n",
       "      <td>4 cyl, 1.5 L</td>\n",
       "      <td>Front</td>\n",
       "      <td>Premium</td>\n",
       "      <td>6.7 L / 100 km</td>\n",
       "      <td>16.0</td>\n",
       "      <td>4 cyl</td>\n",
       "      <td>Hatchback</td>\n",
       "      <td>5 Doors</td>\n",
       "      <td>5 Seats</td>\n",
       "      <td>19990.0</td>\n",
       "    </tr>\n",
       "    <tr>\n",
       "      <th>2</th>\n",
       "      <td>2022.0</td>\n",
       "      <td>USED</td>\n",
       "      <td>Automatic</td>\n",
       "      <td>4 cyl, 2 L</td>\n",
       "      <td>Rear</td>\n",
       "      <td>Premium</td>\n",
       "      <td>6.6 L / 100 km</td>\n",
       "      <td>8472.0</td>\n",
       "      <td>4 cyl</td>\n",
       "      <td>Coupe</td>\n",
       "      <td>2 Doors</td>\n",
       "      <td>4 Seats</td>\n",
       "      <td>108988.0</td>\n",
       "    </tr>\n",
       "    <tr>\n",
       "      <th>3</th>\n",
       "      <td>2011.0</td>\n",
       "      <td>USED</td>\n",
       "      <td>Automatic</td>\n",
       "      <td>8 cyl, 5.5 L</td>\n",
       "      <td>Rear</td>\n",
       "      <td>Premium</td>\n",
       "      <td>11 L / 100 km</td>\n",
       "      <td>136517.0</td>\n",
       "      <td>8 cyl</td>\n",
       "      <td>Coupe</td>\n",
       "      <td>2 Doors</td>\n",
       "      <td>4 Seats</td>\n",
       "      <td>32990.0</td>\n",
       "    </tr>\n",
       "    <tr>\n",
       "      <th>4</th>\n",
       "      <td>2022.0</td>\n",
       "      <td>USED</td>\n",
       "      <td>Automatic</td>\n",
       "      <td>4 cyl, 1.3 L</td>\n",
       "      <td>Front</td>\n",
       "      <td>Unleaded</td>\n",
       "      <td>6 L / 100 km</td>\n",
       "      <td>1035.0</td>\n",
       "      <td>4 cyl</td>\n",
       "      <td>SUV</td>\n",
       "      <td>4 Doors</td>\n",
       "      <td>5 Seats</td>\n",
       "      <td>34990.0</td>\n",
       "    </tr>\n",
       "  </tbody>\n",
       "</table>\n",
       "</div>"
      ],
      "text/plain": [
       "     Year UsedOrNew Transmission        Engine DriveType  FuelType  \\\n",
       "0  2022.0      DEMO    Automatic  4 cyl, 2.2 L       AWD    Diesel   \n",
       "1  2022.0      USED    Automatic  4 cyl, 1.5 L     Front   Premium   \n",
       "2  2022.0      USED    Automatic    4 cyl, 2 L      Rear   Premium   \n",
       "3  2011.0      USED    Automatic  8 cyl, 5.5 L      Rear   Premium   \n",
       "4  2022.0      USED    Automatic  4 cyl, 1.3 L     Front  Unleaded   \n",
       "\n",
       "  FuelConsumption  Kilometres CylindersinEngine   BodyType     Doors  \\\n",
       "0  8.7 L / 100 km      5595.0             4 cyl        SUV   4 Doors   \n",
       "1  6.7 L / 100 km        16.0             4 cyl  Hatchback   5 Doors   \n",
       "2  6.6 L / 100 km      8472.0             4 cyl      Coupe   2 Doors   \n",
       "3   11 L / 100 km    136517.0             8 cyl      Coupe   2 Doors   \n",
       "4    6 L / 100 km      1035.0             4 cyl        SUV   4 Doors   \n",
       "\n",
       "      Seats     Price  \n",
       "0   7 Seats   51990.0  \n",
       "1   5 Seats   19990.0  \n",
       "2   4 Seats  108988.0  \n",
       "3   4 Seats   32990.0  \n",
       "4   5 Seats   34990.0  "
      ]
     },
     "execution_count": 109,
     "metadata": {},
     "output_type": "execute_result"
    }
   ],
   "source": [
    "# reading dataset\n",
    "data = pd.read_csv(\n",
    "    'Australian Vehicle Prices.csv',\n",
    "    na_values=['POA', '-', '- / -'],\n",
    ")\n",
    "\n",
    "# For simplicity, we drop the columns with too many categorical values\n",
    "data.drop(columns=['Brand', 'Model', 'Car/Suv', 'Title', 'ColourExtInt', 'Location'], inplace=True)\n",
    "\n",
    "data.head()"
   ]
  },
  {
   "cell_type": "markdown",
   "id": "652a33ec",
   "metadata": {
    "papermill": {
     "duration": 0.006788,
     "end_time": "2023-12-13T12:49:52.310109",
     "exception": false,
     "start_time": "2023-12-13T12:49:52.303321",
     "status": "completed"
    },
    "tags": []
   },
   "source": [
    "<h1 style=\"\n",
    "  font-family: Arial, Helvetica, sans-serif;\n",
    "  background: linear-gradient(to right, #f32170, #ff6b08, #cf23cf, #eedd44);\n",
    "  -webkit-text-fill-color: transparent;\n",
    "  -webkit-background-clip: text;\n",
    "\">| Using Regular Expressions (Regex)</h1>\n",
    "We use regex to extract numbers from the following columns: `Engine`, `FuelConsumption`, `CylindersinEngine`, `Doors`, and `Seats`.\n",
    "\n",
    "Run the cells below."
   ]
  },
  {
   "cell_type": "code",
   "execution_count": null,
   "id": "af22d6ec",
   "metadata": {
    "execution": {
     "iopub.execute_input": "2023-12-13T12:49:52.325570Z",
     "iopub.status.busy": "2023-12-13T12:49:52.325165Z",
     "iopub.status.idle": "2023-12-13T12:49:52.331926Z",
     "shell.execute_reply": "2023-12-13T12:49:52.330587Z"
    },
    "papermill": {
     "duration": 0.017798,
     "end_time": "2023-12-13T12:49:52.334461",
     "exception": false,
     "start_time": "2023-12-13T12:49:52.316663",
     "status": "completed"
    },
    "tags": []
   },
   "outputs": [],
   "source": [
    "# Helper function to extract numbers from string columns\n",
    "def extract_number(data: 'pd.DataFrame', \n",
    "                  col: 'str', \n",
    "                  pattern: 'str') -> 'pd.Series':\n",
    "    '''\n",
    "\n",
    "    Extracts a number using the given regex pattern from the given data and col, \n",
    "    converts the result to float, and returns the result as a pd.Series.\n",
    "    '''\n",
    "\n",
    "    return data[col].str.extract(pattern, expand=False).astype('float32')"
   ]
  },
  {
   "cell_type": "code",
   "execution_count": null,
   "id": "28cceb3c",
   "metadata": {
    "execution": {
     "iopub.execute_input": "2023-12-13T12:49:52.349933Z",
     "iopub.status.busy": "2023-12-13T12:49:52.349535Z",
     "iopub.status.idle": "2023-12-13T12:49:52.509579Z",
     "shell.execute_reply": "2023-12-13T12:49:52.508398Z"
    },
    "papermill": {
     "duration": 0.170744,
     "end_time": "2023-12-13T12:49:52.512078",
     "exception": false,
     "start_time": "2023-12-13T12:49:52.341334",
     "status": "completed"
    },
    "tags": []
   },
   "outputs": [
    {
     "data": {
      "text/html": [
       "<div>\n",
       "<style scoped>\n",
       "    .dataframe tbody tr th:only-of-type {\n",
       "        vertical-align: middle;\n",
       "    }\n",
       "\n",
       "    .dataframe tbody tr th {\n",
       "        vertical-align: top;\n",
       "    }\n",
       "\n",
       "    .dataframe thead th {\n",
       "        text-align: right;\n",
       "    }\n",
       "</style>\n",
       "<table border=\"1\" class=\"dataframe\">\n",
       "  <thead>\n",
       "    <tr style=\"text-align: right;\">\n",
       "      <th></th>\n",
       "      <th>Year</th>\n",
       "      <th>UsedOrNew</th>\n",
       "      <th>Transmission</th>\n",
       "      <th>Engine</th>\n",
       "      <th>DriveType</th>\n",
       "      <th>FuelType</th>\n",
       "      <th>FuelConsumption</th>\n",
       "      <th>Kilometres</th>\n",
       "      <th>CylindersinEngine</th>\n",
       "      <th>BodyType</th>\n",
       "      <th>Doors</th>\n",
       "      <th>Seats</th>\n",
       "      <th>Price</th>\n",
       "    </tr>\n",
       "  </thead>\n",
       "  <tbody>\n",
       "    <tr>\n",
       "      <th>0</th>\n",
       "      <td>2022.0</td>\n",
       "      <td>DEMO</td>\n",
       "      <td>Automatic</td>\n",
       "      <td>2.2</td>\n",
       "      <td>AWD</td>\n",
       "      <td>Diesel</td>\n",
       "      <td>8.7</td>\n",
       "      <td>5595.0</td>\n",
       "      <td>4.0</td>\n",
       "      <td>SUV</td>\n",
       "      <td>4.0</td>\n",
       "      <td>7.0</td>\n",
       "      <td>51990.0</td>\n",
       "    </tr>\n",
       "    <tr>\n",
       "      <th>1</th>\n",
       "      <td>2022.0</td>\n",
       "      <td>USED</td>\n",
       "      <td>Automatic</td>\n",
       "      <td>1.5</td>\n",
       "      <td>Front</td>\n",
       "      <td>Premium</td>\n",
       "      <td>6.7</td>\n",
       "      <td>16.0</td>\n",
       "      <td>4.0</td>\n",
       "      <td>Hatchback</td>\n",
       "      <td>5.0</td>\n",
       "      <td>5.0</td>\n",
       "      <td>19990.0</td>\n",
       "    </tr>\n",
       "    <tr>\n",
       "      <th>2</th>\n",
       "      <td>2022.0</td>\n",
       "      <td>USED</td>\n",
       "      <td>Automatic</td>\n",
       "      <td>2.0</td>\n",
       "      <td>Rear</td>\n",
       "      <td>Premium</td>\n",
       "      <td>6.6</td>\n",
       "      <td>8472.0</td>\n",
       "      <td>4.0</td>\n",
       "      <td>Coupe</td>\n",
       "      <td>2.0</td>\n",
       "      <td>4.0</td>\n",
       "      <td>108988.0</td>\n",
       "    </tr>\n",
       "    <tr>\n",
       "      <th>3</th>\n",
       "      <td>2011.0</td>\n",
       "      <td>USED</td>\n",
       "      <td>Automatic</td>\n",
       "      <td>5.5</td>\n",
       "      <td>Rear</td>\n",
       "      <td>Premium</td>\n",
       "      <td>11.0</td>\n",
       "      <td>136517.0</td>\n",
       "      <td>8.0</td>\n",
       "      <td>Coupe</td>\n",
       "      <td>2.0</td>\n",
       "      <td>4.0</td>\n",
       "      <td>32990.0</td>\n",
       "    </tr>\n",
       "    <tr>\n",
       "      <th>4</th>\n",
       "      <td>2022.0</td>\n",
       "      <td>USED</td>\n",
       "      <td>Automatic</td>\n",
       "      <td>1.3</td>\n",
       "      <td>Front</td>\n",
       "      <td>Unleaded</td>\n",
       "      <td>6.0</td>\n",
       "      <td>1035.0</td>\n",
       "      <td>4.0</td>\n",
       "      <td>SUV</td>\n",
       "      <td>4.0</td>\n",
       "      <td>5.0</td>\n",
       "      <td>34990.0</td>\n",
       "    </tr>\n",
       "  </tbody>\n",
       "</table>\n",
       "</div>"
      ],
      "text/plain": [
       "     Year UsedOrNew Transmission  Engine DriveType  FuelType  FuelConsumption  \\\n",
       "0  2022.0      DEMO    Automatic     2.2       AWD    Diesel              8.7   \n",
       "1  2022.0      USED    Automatic     1.5     Front   Premium              6.7   \n",
       "2  2022.0      USED    Automatic     2.0      Rear   Premium              6.6   \n",
       "3  2011.0      USED    Automatic     5.5      Rear   Premium             11.0   \n",
       "4  2022.0      USED    Automatic     1.3     Front  Unleaded              6.0   \n",
       "\n",
       "   Kilometres  CylindersinEngine   BodyType  Doors  Seats     Price  \n",
       "0      5595.0                4.0        SUV    4.0    7.0   51990.0  \n",
       "1        16.0                4.0  Hatchback    5.0    5.0   19990.0  \n",
       "2      8472.0                4.0      Coupe    2.0    4.0  108988.0  \n",
       "3    136517.0                8.0      Coupe    2.0    4.0   32990.0  \n",
       "4      1035.0                4.0        SUV    4.0    5.0   34990.0  "
      ]
     },
     "execution_count": 111,
     "metadata": {},
     "output_type": "execute_result"
    }
   ],
   "source": [
    "# We use the previous hepler function to extract numbers from string columns\n",
    "data['Engine'] = extract_number(data, col='Engine', pattern=r'.*?(\\d+\\.?\\d*) L')\n",
    "data['FuelConsumption'] = extract_number(data, col='FuelConsumption', pattern=r'(\\d+\\.?\\d*) L.*')\n",
    "data['CylindersinEngine'] = extract_number(data, col='CylindersinEngine', pattern=r'(\\d+) (?:cyl|L)')\n",
    "data['Doors'] = extract_number(data, col='Doors', pattern=r'(\\d+) Doors')\n",
    "data['Seats'] = extract_number(data, col='Seats', pattern=r'(\\d+) Seats')\n",
    "\n",
    "data.head()"
   ]
  },
  {
   "cell_type": "markdown",
   "id": "55da7310",
   "metadata": {
    "papermill": {
     "duration": 0.006714,
     "end_time": "2023-12-13T12:49:52.525738",
     "exception": false,
     "start_time": "2023-12-13T12:49:52.519024",
     "status": "completed"
    },
    "tags": []
   },
   "source": [
    "<h1 style=\"\n",
    "  font-family: Arial, Helvetica, sans-serif;\n",
    "  background: linear-gradient(to right, #f32170, #ff6b08, #cf23cf, #eedd44);\n",
    "  -webkit-text-fill-color: transparent;\n",
    "  -webkit-background-clip: text;\n",
    "\">| Data Analysis</h1>\n",
    "\n",
    "Examine the dataset and answer the following questions:\n",
    "1. How many samples and features does this dataset contain?\n",
    "2. What is the target column?\n",
    "3. What is the data type of each column?\n",
    "4. Which columns are numeric? Which columns are categorical?\n",
    "5. Does this dataset contain missing values?"
   ]
  },
  {
   "cell_type": "code",
   "execution_count": null,
   "id": "e0ce30cb",
   "metadata": {
    "execution": {
     "iopub.execute_input": "2023-12-13T12:49:52.541989Z",
     "iopub.status.busy": "2023-12-13T12:49:52.540798Z",
     "iopub.status.idle": "2023-12-13T12:49:52.545467Z",
     "shell.execute_reply": "2023-12-13T12:49:52.544632Z"
    },
    "papermill": {
     "duration": 0.015242,
     "end_time": "2023-12-13T12:49:52.547851",
     "exception": false,
     "start_time": "2023-12-13T12:49:52.532609",
     "status": "completed"
    },
    "tags": []
   },
   "outputs": [
    {
     "name": "stdout",
     "output_type": "stream",
     "text": [
      "Number of samples:  16734\n",
      "Number of features:  13\n"
     ]
    }
   ],
   "source": [
    "# Write your analysis code here\n",
    "# Feel free to create as many cells as you want\n",
    "# Number of Samples And Features \n",
    "samples , features = data.shape\n",
    "print(\"Number of samples: \", samples)\n",
    "print(\"Number of features: \", features)"
   ]
  },
  {
   "cell_type": "code",
   "execution_count": null,
   "id": "de9546bd",
   "metadata": {},
   "outputs": [
    {
     "name": "stdout",
     "output_type": "stream",
     "text": [
      "Target column:  0         51990.0\n",
      "1         19990.0\n",
      "2        108988.0\n",
      "3         32990.0\n",
      "4         34990.0\n",
      "           ...   \n",
      "16729     29500.0\n",
      "16730     39888.0\n",
      "16731     35280.0\n",
      "16732     41888.0\n",
      "16733     65888.0\n",
      "Name: Price, Length: 16734, dtype: float64\n"
     ]
    }
   ],
   "source": [
    "# Select Target Column\n",
    "target_column = data['Price']\n",
    "print(\"Target column: \", target_column)"
   ]
  },
  {
   "cell_type": "code",
   "execution_count": null,
   "id": "f1decdd1",
   "metadata": {},
   "outputs": [
    {
     "data": {
      "text/plain": [
       "Year                 float64\n",
       "UsedOrNew             object\n",
       "Transmission          object\n",
       "Engine               float32\n",
       "DriveType             object\n",
       "FuelType              object\n",
       "FuelConsumption      float32\n",
       "Kilometres           float64\n",
       "CylindersinEngine    float32\n",
       "BodyType              object\n",
       "Doors                float32\n",
       "Seats                float32\n",
       "Price                float64\n",
       "dtype: object"
      ]
     },
     "execution_count": 114,
     "metadata": {},
     "output_type": "execute_result"
    }
   ],
   "source": [
    "# Display data types for each column\n",
    "data.dtypes"
   ]
  },
  {
   "cell_type": "code",
   "execution_count": null,
   "id": "9d9d0143",
   "metadata": {},
   "outputs": [
    {
     "name": "stdout",
     "output_type": "stream",
     "text": [
      "Numeric columns:\n",
      "Index(['Year', 'Engine', 'FuelConsumption', 'Kilometres', 'CylindersinEngine',\n",
      "       'Doors', 'Seats', 'Price'],\n",
      "      dtype='object')\n",
      "Categorical columns:\n",
      "Index(['UsedOrNew', 'Transmission', 'DriveType', 'FuelType', 'BodyType'], dtype='object')\n"
     ]
    }
   ],
   "source": [
    "# select which column are categorical or numerical\n",
    "# Display data types for each column\n",
    "numeric_columns = data.select_dtypes(include=['number']).columns\n",
    "categorical_columns = data.select_dtypes(include=['object']).columns\n",
    "print(\"Numeric columns:\")\n",
    "print(numeric_columns)\n",
    "print(\"Categorical columns:\")\n",
    "print(categorical_columns)"
   ]
  },
  {
   "cell_type": "code",
   "execution_count": null,
   "id": "8bb4adc9",
   "metadata": {},
   "outputs": [
    {
     "name": "stdout",
     "output_type": "stream",
     "text": [
      "\n",
      "Percentage of Missing values in each Feature\n",
      "Year                  0.005976\n",
      "UsedOrNew             0.005976\n",
      "Transmission          1.505916\n",
      "Engine               10.015537\n",
      "DriveType             0.005976\n",
      "FuelType              3.812597\n",
      "FuelConsumption      10.147006\n",
      "Kilometres            3.537708\n",
      "CylindersinEngine    10.009561\n",
      "BodyType              1.685192\n",
      "Doors                10.009561\n",
      "Seats                10.188837\n",
      "Price                 0.316720\n",
      "dtype: float64\n"
     ]
    }
   ],
   "source": [
    "# check missing values \n",
    "print(\"\\nPercentage of Missing values in each Feature\")\n",
    "print(data.isnull().sum()/len(data)*100)"
   ]
  },
  {
   "cell_type": "markdown",
   "id": "582fc453",
   "metadata": {
    "papermill": {
     "duration": 0.006854,
     "end_time": "2023-12-13T12:49:52.561770",
     "exception": false,
     "start_time": "2023-12-13T12:49:52.554916",
     "status": "completed"
    },
    "tags": []
   },
   "source": [
    "<h1 style=\"\n",
    "  font-family: Arial, Helvetica, sans-serif;\n",
    "  background: linear-gradient(to right, #f32170, #ff6b08, #cf23cf, #eedd44);\n",
    "  -webkit-text-fill-color: transparent;\n",
    "  -webkit-background-clip: text;\n",
    "\">| Data Cleaning</h1>\n",
    "\n",
    "Remove missing values (if any)"
   ]
  },
  {
   "cell_type": "code",
   "execution_count": null,
   "id": "605a873b",
   "metadata": {
    "execution": {
     "iopub.execute_input": "2023-12-13T12:49:52.578116Z",
     "iopub.status.busy": "2023-12-13T12:49:52.576959Z",
     "iopub.status.idle": "2023-12-13T12:49:52.581578Z",
     "shell.execute_reply": "2023-12-13T12:49:52.580511Z"
    },
    "papermill": {
     "duration": 0.015121,
     "end_time": "2023-12-13T12:49:52.583899",
     "exception": false,
     "start_time": "2023-12-13T12:49:52.568778",
     "status": "completed"
    },
    "tags": []
   },
   "outputs": [],
   "source": [
    "# Remove missing values here\n",
    "clean_data=data.dropna()"
   ]
  },
  {
   "cell_type": "code",
   "execution_count": null,
   "id": "68c6d3d0",
   "metadata": {},
   "outputs": [
    {
     "data": {
      "text/plain": [
       "(14283, 13)"
      ]
     },
     "execution_count": 118,
     "metadata": {},
     "output_type": "execute_result"
    }
   ],
   "source": [
    "# shape of data after remove missing values\n",
    "clean_data.shape"
   ]
  },
  {
   "cell_type": "code",
   "execution_count": null,
   "id": "a6c98d54",
   "metadata": {},
   "outputs": [
    {
     "data": {
      "text/plain": [
       "14.646826819648624"
      ]
     },
     "execution_count": 119,
     "metadata": {},
     "output_type": "execute_result"
    }
   ],
   "source": [
    "# percentage of data removed \n",
    "100-(clean_data.shape[0]/data.shape[0]*100)"
   ]
  },
  {
   "cell_type": "markdown",
   "id": "3aec54ff",
   "metadata": {
    "papermill": {
     "duration": 0.006709,
     "end_time": "2023-12-13T12:49:52.597953",
     "exception": false,
     "start_time": "2023-12-13T12:49:52.591244",
     "status": "completed"
    },
    "tags": []
   },
   "source": [
    "<h1 style=\"\n",
    "  font-family: Arial, Helvetica, sans-serif;\n",
    "  background: linear-gradient(to right, #f32170, #ff6b08, #cf23cf, #eedd44);\n",
    "  -webkit-text-fill-color: transparent;\n",
    "  -webkit-background-clip: text;\n",
    "\">| Data Encoding</h1>\n",
    "\n",
    "Convert the categorical features to numeric"
   ]
  },
  {
   "cell_type": "code",
   "execution_count": null,
   "id": "59b2f6d1",
   "metadata": {},
   "outputs": [
    {
     "name": "stdout",
     "output_type": "stream",
     "text": [
      "['Automatic' 'Manual']\n",
      "['AWD' 'Front' 'Rear' '4WD' 'Other']\n",
      "['Diesel' 'Premium' 'Unleaded' 'Hybrid' 'Electric' 'LPG' 'Leaded']\n",
      "['SUV' 'Hatchback' 'Coupe' 'Commercial' 'Ute / Tray' 'Sedan'\n",
      " 'People Mover' 'Convertible' 'Wagon' 'Other']\n",
      "['DEMO' 'USED' 'NEW']\n"
     ]
    }
   ],
   "source": [
    "#'UsedOrNew', 'Transmission', 'DriveType', 'FuelType', 'BodyType\n",
    "print(clean_data['Transmission'].unique())\n",
    "print(clean_data['DriveType'].unique())\n",
    "print(clean_data['FuelType'].unique())\n",
    "print(clean_data['BodyType'].unique())\n",
    "print(clean_data['UsedOrNew'].unique())"
   ]
  },
  {
   "cell_type": "code",
   "execution_count": null,
   "id": "487d1936",
   "metadata": {
    "execution": {
     "iopub.execute_input": "2023-12-13T12:49:52.614098Z",
     "iopub.status.busy": "2023-12-13T12:49:52.613350Z",
     "iopub.status.idle": "2023-12-13T12:49:52.617516Z",
     "shell.execute_reply": "2023-12-13T12:49:52.616518Z"
    },
    "papermill": {
     "duration": 0.014967,
     "end_time": "2023-12-13T12:49:52.619865",
     "exception": false,
     "start_time": "2023-12-13T12:49:52.604898",
     "status": "completed"
    },
    "tags": []
   },
   "outputs": [
    {
     "data": {
      "text/html": [
       "<div>\n",
       "<style scoped>\n",
       "    .dataframe tbody tr th:only-of-type {\n",
       "        vertical-align: middle;\n",
       "    }\n",
       "\n",
       "    .dataframe tbody tr th {\n",
       "        vertical-align: top;\n",
       "    }\n",
       "\n",
       "    .dataframe thead th {\n",
       "        text-align: right;\n",
       "    }\n",
       "</style>\n",
       "<table border=\"1\" class=\"dataframe\">\n",
       "  <thead>\n",
       "    <tr style=\"text-align: right;\">\n",
       "      <th></th>\n",
       "      <th>Year</th>\n",
       "      <th>UsedOrNew</th>\n",
       "      <th>Transmission</th>\n",
       "      <th>Engine</th>\n",
       "      <th>DriveType</th>\n",
       "      <th>FuelType</th>\n",
       "      <th>FuelConsumption</th>\n",
       "      <th>Kilometres</th>\n",
       "      <th>CylindersinEngine</th>\n",
       "      <th>BodyType</th>\n",
       "      <th>Doors</th>\n",
       "      <th>Seats</th>\n",
       "      <th>Price</th>\n",
       "    </tr>\n",
       "  </thead>\n",
       "  <tbody>\n",
       "    <tr>\n",
       "      <th>0</th>\n",
       "      <td>2022.0</td>\n",
       "      <td>0</td>\n",
       "      <td>1</td>\n",
       "      <td>2.2</td>\n",
       "      <td>0</td>\n",
       "      <td>0</td>\n",
       "      <td>8.7</td>\n",
       "      <td>5595.0</td>\n",
       "      <td>4.0</td>\n",
       "      <td>0</td>\n",
       "      <td>4.0</td>\n",
       "      <td>7.0</td>\n",
       "      <td>51990.0</td>\n",
       "    </tr>\n",
       "    <tr>\n",
       "      <th>1</th>\n",
       "      <td>2022.0</td>\n",
       "      <td>1</td>\n",
       "      <td>1</td>\n",
       "      <td>1.5</td>\n",
       "      <td>1</td>\n",
       "      <td>1</td>\n",
       "      <td>6.7</td>\n",
       "      <td>16.0</td>\n",
       "      <td>4.0</td>\n",
       "      <td>1</td>\n",
       "      <td>5.0</td>\n",
       "      <td>5.0</td>\n",
       "      <td>19990.0</td>\n",
       "    </tr>\n",
       "    <tr>\n",
       "      <th>2</th>\n",
       "      <td>2022.0</td>\n",
       "      <td>1</td>\n",
       "      <td>1</td>\n",
       "      <td>2.0</td>\n",
       "      <td>2</td>\n",
       "      <td>1</td>\n",
       "      <td>6.6</td>\n",
       "      <td>8472.0</td>\n",
       "      <td>4.0</td>\n",
       "      <td>2</td>\n",
       "      <td>2.0</td>\n",
       "      <td>4.0</td>\n",
       "      <td>108988.0</td>\n",
       "    </tr>\n",
       "    <tr>\n",
       "      <th>3</th>\n",
       "      <td>2011.0</td>\n",
       "      <td>1</td>\n",
       "      <td>1</td>\n",
       "      <td>5.5</td>\n",
       "      <td>2</td>\n",
       "      <td>1</td>\n",
       "      <td>11.0</td>\n",
       "      <td>136517.0</td>\n",
       "      <td>8.0</td>\n",
       "      <td>2</td>\n",
       "      <td>2.0</td>\n",
       "      <td>4.0</td>\n",
       "      <td>32990.0</td>\n",
       "    </tr>\n",
       "    <tr>\n",
       "      <th>4</th>\n",
       "      <td>2022.0</td>\n",
       "      <td>1</td>\n",
       "      <td>1</td>\n",
       "      <td>1.3</td>\n",
       "      <td>1</td>\n",
       "      <td>2</td>\n",
       "      <td>6.0</td>\n",
       "      <td>1035.0</td>\n",
       "      <td>4.0</td>\n",
       "      <td>0</td>\n",
       "      <td>4.0</td>\n",
       "      <td>5.0</td>\n",
       "      <td>34990.0</td>\n",
       "    </tr>\n",
       "    <tr>\n",
       "      <th>6</th>\n",
       "      <td>2017.0</td>\n",
       "      <td>1</td>\n",
       "      <td>1</td>\n",
       "      <td>2.0</td>\n",
       "      <td>0</td>\n",
       "      <td>0</td>\n",
       "      <td>5.1</td>\n",
       "      <td>67662.0</td>\n",
       "      <td>4.0</td>\n",
       "      <td>0</td>\n",
       "      <td>2.0</td>\n",
       "      <td>4.0</td>\n",
       "      <td>62280.0</td>\n",
       "    </tr>\n",
       "    <tr>\n",
       "      <th>7</th>\n",
       "      <td>2000.0</td>\n",
       "      <td>1</td>\n",
       "      <td>1</td>\n",
       "      <td>1.6</td>\n",
       "      <td>1</td>\n",
       "      <td>2</td>\n",
       "      <td>8.0</td>\n",
       "      <td>300539.0</td>\n",
       "      <td>4.0</td>\n",
       "      <td>1</td>\n",
       "      <td>5.0</td>\n",
       "      <td>5.0</td>\n",
       "      <td>2995.0</td>\n",
       "    </tr>\n",
       "    <tr>\n",
       "      <th>8</th>\n",
       "      <td>2013.0</td>\n",
       "      <td>1</td>\n",
       "      <td>1</td>\n",
       "      <td>2.0</td>\n",
       "      <td>2</td>\n",
       "      <td>1</td>\n",
       "      <td>7.1</td>\n",
       "      <td>82012.0</td>\n",
       "      <td>4.0</td>\n",
       "      <td>2</td>\n",
       "      <td>2.0</td>\n",
       "      <td>4.0</td>\n",
       "      <td>24888.0</td>\n",
       "    </tr>\n",
       "    <tr>\n",
       "      <th>9</th>\n",
       "      <td>2014.0</td>\n",
       "      <td>1</td>\n",
       "      <td>1</td>\n",
       "      <td>1.3</td>\n",
       "      <td>1</td>\n",
       "      <td>3</td>\n",
       "      <td>4.5</td>\n",
       "      <td>38229.0</td>\n",
       "      <td>4.0</td>\n",
       "      <td>1</td>\n",
       "      <td>5.0</td>\n",
       "      <td>5.0</td>\n",
       "      <td>17900.0</td>\n",
       "    </tr>\n",
       "    <tr>\n",
       "      <th>11</th>\n",
       "      <td>2018.0</td>\n",
       "      <td>1</td>\n",
       "      <td>1</td>\n",
       "      <td>2.7</td>\n",
       "      <td>2</td>\n",
       "      <td>2</td>\n",
       "      <td>9.8</td>\n",
       "      <td>16324.0</td>\n",
       "      <td>4.0</td>\n",
       "      <td>3</td>\n",
       "      <td>4.0</td>\n",
       "      <td>2.0</td>\n",
       "      <td>41999.0</td>\n",
       "    </tr>\n",
       "  </tbody>\n",
       "</table>\n",
       "</div>"
      ],
      "text/plain": [
       "      Year  UsedOrNew  Transmission  Engine  DriveType  FuelType  \\\n",
       "0   2022.0          0             1     2.2          0         0   \n",
       "1   2022.0          1             1     1.5          1         1   \n",
       "2   2022.0          1             1     2.0          2         1   \n",
       "3   2011.0          1             1     5.5          2         1   \n",
       "4   2022.0          1             1     1.3          1         2   \n",
       "6   2017.0          1             1     2.0          0         0   \n",
       "7   2000.0          1             1     1.6          1         2   \n",
       "8   2013.0          1             1     2.0          2         1   \n",
       "9   2014.0          1             1     1.3          1         3   \n",
       "11  2018.0          1             1     2.7          2         2   \n",
       "\n",
       "    FuelConsumption  Kilometres  CylindersinEngine  BodyType  Doors  Seats  \\\n",
       "0               8.7      5595.0                4.0         0    4.0    7.0   \n",
       "1               6.7        16.0                4.0         1    5.0    5.0   \n",
       "2               6.6      8472.0                4.0         2    2.0    4.0   \n",
       "3              11.0    136517.0                8.0         2    2.0    4.0   \n",
       "4               6.0      1035.0                4.0         0    4.0    5.0   \n",
       "6               5.1     67662.0                4.0         0    2.0    4.0   \n",
       "7               8.0    300539.0                4.0         1    5.0    5.0   \n",
       "8               7.1     82012.0                4.0         2    2.0    4.0   \n",
       "9               4.5     38229.0                4.0         1    5.0    5.0   \n",
       "11              9.8     16324.0                4.0         3    4.0    2.0   \n",
       "\n",
       "       Price  \n",
       "0    51990.0  \n",
       "1    19990.0  \n",
       "2   108988.0  \n",
       "3    32990.0  \n",
       "4    34990.0  \n",
       "6    62280.0  \n",
       "7     2995.0  \n",
       "8    24888.0  \n",
       "9    17900.0  \n",
       "11   41999.0  "
      ]
     },
     "execution_count": 121,
     "metadata": {},
     "output_type": "execute_result"
    }
   ],
   "source": [
    "data_encoded = clean_data.replace({\n",
    "    'UsedOrNew' : {'DEMO':0 , 'USED': 1, 'NEW':2},\n",
    "    'Transmission' : {'Automatic':1 , 'Manual': 0},\n",
    "    'DriveType' : {'AWD':0 , 'Front': 1,'Rear':2,'4WD':3, 'Other':4},\n",
    "    'FuelType' : {'Diesel':0 , 'Premium': 1,'Unleaded':2,'Hybrid':3, 'Electric':4,'LPG':5,'Leaded':6},\n",
    "    'BodyType' : {'SUV':0 , 'Hatchback': 1,'Coupe':2,'Commercial':3, 'Ute / Tray':4,'Sedan':5,'People Mover':6,'Convertible':7,'Wagon':8,'Other':9},\n",
    "})\n",
    "\n",
    "data_encoded.head(10)"
   ]
  },
  {
   "cell_type": "code",
   "execution_count": null,
   "id": "1474d070",
   "metadata": {},
   "outputs": [
    {
     "name": "stdout",
     "output_type": "stream",
     "text": [
      "     Year  UsedOrNew  Engine  FuelConsumption  Kilometres  CylindersinEngine  \\\n",
      "0  2022.0          0     2.2              8.7      5595.0                4.0   \n",
      "1  2022.0          1     1.5              6.7        16.0                4.0   \n",
      "2  2022.0          1     2.0              6.6      8472.0                4.0   \n",
      "3  2011.0          1     5.5             11.0    136517.0                8.0   \n",
      "4  2022.0          1     1.3              6.0      1035.0                4.0   \n",
      "\n",
      "   Doors  Seats     Price  Transmission_0  ...  BodyType_0  BodyType_1  \\\n",
      "0    4.0    7.0   51990.0           False  ...        True       False   \n",
      "1    5.0    5.0   19990.0           False  ...       False        True   \n",
      "2    2.0    4.0  108988.0           False  ...       False       False   \n",
      "3    2.0    4.0   32990.0           False  ...       False       False   \n",
      "4    4.0    5.0   34990.0           False  ...        True       False   \n",
      "\n",
      "   BodyType_2  BodyType_3  BodyType_4  BodyType_5  BodyType_6  BodyType_7  \\\n",
      "0       False       False       False       False       False       False   \n",
      "1       False       False       False       False       False       False   \n",
      "2        True       False       False       False       False       False   \n",
      "3        True       False       False       False       False       False   \n",
      "4       False       False       False       False       False       False   \n",
      "\n",
      "   BodyType_8  BodyType_9  \n",
      "0       False       False  \n",
      "1       False       False  \n",
      "2       False       False  \n",
      "3       False       False  \n",
      "4       False       False  \n",
      "\n",
      "[5 rows x 33 columns]\n"
     ]
    }
   ],
   "source": [
    "# Perform one-hot encoding for selected features\n",
    "data_encoded = pd.get_dummies(data_encoded, columns=['Transmission'], prefix=['Transmission'])\n",
    "\n",
    "# Ensure that 'UsedOrNew' encoding is not changed\n",
    "data_encoded['UsedOrNew'] = clean_data['UsedOrNew'].map({'DEMO': 0, 'USED': 1, 'NEW': 2})\n",
    "\n",
    "# Display the updated DataFrame\n",
    "# print(data_encoded.head())\n",
    "data_encoded.shape[0]\n"
   ]
  },
  {
   "cell_type": "markdown",
   "id": "89cf5ed9",
   "metadata": {
    "papermill": {
     "duration": 0.006755,
     "end_time": "2023-12-13T12:49:52.634019",
     "exception": false,
     "start_time": "2023-12-13T12:49:52.627264",
     "status": "completed"
    },
    "tags": []
   },
   "source": [
    "<h1 style=\"\n",
    "  font-family: Arial, Helvetica, sans-serif;\n",
    "  background: linear-gradient(to right, #f32170, #ff6b08, #cf23cf, #eedd44);\n",
    "  -webkit-text-fill-color: transparent;\n",
    "  -webkit-background-clip: text;\n",
    "\">| Data Splitting</h1>\n",
    "\n",
    "Split the dataset into\n",
    "- Input and output\n",
    "- Training and test sets"
   ]
  },
  {
   "cell_type": "code",
   "execution_count": null,
   "id": "a002b97e",
   "metadata": {
    "execution": {
     "iopub.execute_input": "2023-12-13T12:49:52.650246Z",
     "iopub.status.busy": "2023-12-13T12:49:52.649777Z",
     "iopub.status.idle": "2023-12-13T12:49:52.654380Z",
     "shell.execute_reply": "2023-12-13T12:49:52.653314Z"
    },
    "papermill": {
     "duration": 0.015744,
     "end_time": "2023-12-13T12:49:52.656884",
     "exception": false,
     "start_time": "2023-12-13T12:49:52.641140",
     "status": "completed"
    },
    "tags": []
   },
   "outputs": [
    {
     "name": "stdout",
     "output_type": "stream",
     "text": [
      "(14283, 32)\n",
      "(14283,)\n"
     ]
    }
   ],
   "source": [
    "# Split the dataset to input and output\n",
    "data_input = data_encoded.drop(columns=['Price'])\n",
    "data_output= data_encoded['Price']\n",
    "print(data_input.shape)\n",
    "print(data_output.shape)\n",
    "\n"
   ]
  },
  {
   "cell_type": "code",
   "execution_count": null,
   "id": "a446b159",
   "metadata": {
    "execution": {
     "iopub.execute_input": "2023-12-13T12:49:52.672898Z",
     "iopub.status.busy": "2023-12-13T12:49:52.672530Z",
     "iopub.status.idle": "2023-12-13T12:49:52.677207Z",
     "shell.execute_reply": "2023-12-13T12:49:52.676043Z"
    },
    "papermill": {
     "duration": 0.015907,
     "end_time": "2023-12-13T12:49:52.679890",
     "exception": false,
     "start_time": "2023-12-13T12:49:52.663983",
     "status": "completed"
    },
    "tags": []
   },
   "outputs": [
    {
     "name": "stdout",
     "output_type": "stream",
     "text": [
      "(9140, 32)\n",
      "(9140,)\n",
      "--------------------\n",
      "(2286, 32)\n",
      "(2286,)\n",
      "--------------------\n",
      "(2857, 32)\n",
      "(2857,)\n"
     ]
    }
   ],
   "source": [
    "# Split the input and output to training and test sets\n",
    "from sklearn.model_selection import train_test_split\n",
    "# test size is 20% of the dataset\n",
    "x,x_test,y,y_test = train_test_split(data_input, data_output, \n",
    "                                     test_size=0.2, \n",
    "                                     random_state=42)\n",
    "\n",
    "# train size is 80% of the dataset\n",
    "x_train,x_val,y_train,y_val = train_test_split(x, y, \n",
    "                                               test_size=0.2,\n",
    "                                               random_state=42)\n",
    "print(x_train.shape)\n",
    "print(y_train.shape)\n",
    "print('-'*20)\n",
    "print(x_val.shape)\n",
    "print(y_val.shape)\n",
    "print('-'*20)\n",
    "print(x_test.shape)\n",
    "print(y_test.shape)"
   ]
  },
  {
   "cell_type": "markdown",
   "id": "e7f7a738",
   "metadata": {
    "papermill": {
     "duration": 0.006727,
     "end_time": "2023-12-13T12:49:52.693971",
     "exception": false,
     "start_time": "2023-12-13T12:49:52.687244",
     "status": "completed"
    },
    "tags": []
   },
   "source": [
    "<h1 style=\"\n",
    "  font-family: Arial, Helvetica, sans-serif;\n",
    "  background: linear-gradient(to right, #f32170, #ff6b08, #cf23cf, #eedd44);\n",
    "  -webkit-text-fill-color: transparent;\n",
    "  -webkit-background-clip: text;\n",
    "\">| Linear Regression</h1>\n",
    "\n",
    "Train a linear regression model and calculate its $R^2$ (r2_score) for training and test sets"
   ]
  },
  {
   "cell_type": "code",
   "execution_count": null,
   "id": "c177965c",
   "metadata": {
    "execution": {
     "iopub.execute_input": "2023-12-13T12:49:52.710314Z",
     "iopub.status.busy": "2023-12-13T12:49:52.709613Z",
     "iopub.status.idle": "2023-12-13T12:49:52.713660Z",
     "shell.execute_reply": "2023-12-13T12:49:52.712803Z"
    },
    "papermill": {
     "duration": 0.014896,
     "end_time": "2023-12-13T12:49:52.715892",
     "exception": false,
     "start_time": "2023-12-13T12:49:52.700996",
     "status": "completed"
    },
    "tags": []
   },
   "outputs": [
    {
     "name": "stdout",
     "output_type": "stream",
     "text": [
      "R2 Score - Training Set: 0.5733805709042183\n",
      "R2 Score - Validation Set: 0.5085154293034462\n",
      "R2 Score - Test Set: 0.501364528759054\n"
     ]
    }
   ],
   "source": [
    "from sklearn.linear_model import LinearRegression\n",
    "from sklearn.metrics import r2_score\n",
    "\n",
    "# Create a linear regression model\n",
    "model = LinearRegression()\n",
    "\n",
    "# Train the model\n",
    "model.fit(x_train, y_train)\n",
    "\n",
    "# Make predictions for training and test sets\n",
    "y_train_pred = model.predict(x_train)\n",
    "y_val_pred = model.predict(x_val)\n",
    "y_test_pred = model.predict(x_test)\n",
    "\n",
    "# Calculate r2_score for training and test sets\n",
    "r2_train = r2_score(y_train, y_train_pred)\n",
    "r2_val = r2_score(y_val, y_val_pred)\n",
    "r2_test = r2_score(y_test, y_test_pred)\n",
    "\n",
    "print(\"R2 Score - Training Set:\", r2_train)\n",
    "print(\"R2 Score - Validation Set:\", r2_val)\n",
    "print(\"R2 Score - Test Set:\", r2_test)\n"
   ]
  },
  {
   "cell_type": "markdown",
   "id": "0a4d5d32",
   "metadata": {
    "papermill": {
     "duration": 0.006828,
     "end_time": "2023-12-13T12:49:52.729999",
     "exception": false,
     "start_time": "2023-12-13T12:49:52.723171",
     "status": "completed"
    },
    "tags": []
   },
   "source": [
    "Answer the following questions:\n",
    "1. What is the $R^2$ value for the training set?\n",
    "2. What is the $R^2$ value for the test set?\n",
    "3. Does this model overfit the training set? Why/why not?\n",
    "4. Does this model underfit the training set? Why/why not?"
   ]
  },
  {
   "cell_type": "code",
   "execution_count": null,
   "id": "5a67e15c",
   "metadata": {
    "papermill": {
     "duration": 0.006684,
     "end_time": "2023-12-13T12:49:52.743765",
     "exception": false,
     "start_time": "2023-12-13T12:49:52.737081",
     "status": "completed"
    },
    "tags": []
   },
   "outputs": [],
   "source": []
  }
 ],
 "metadata": {
  "kaggle": {
   "accelerator": "none",
   "dataSources": [
    {
     "datasetId": 4065736,
     "sourceId": 7062095,
     "sourceType": "datasetVersion"
    }
   ],
   "dockerImageVersionId": 30587,
   "isGpuEnabled": false,
   "isInternetEnabled": true,
   "language": "python",
   "sourceType": "notebook"
  },
  "kernelspec": {
   "display_name": "Python 3 (ipykernel)",
   "language": "python",
   "name": "python3"
  },
  "language_info": {
   "codemirror_mode": {
    "name": "ipython",
    "version": 3
   },
   "file_extension": ".py",
   "mimetype": "text/x-python",
   "name": "python",
   "nbconvert_exporter": "python",
   "pygments_lexer": "ipython3",
   "version": "3.11.5"
  },
  "papermill": {
   "default_parameters": {},
   "duration": 5.909857,
   "end_time": "2023-12-13T12:49:53.272168",
   "environment_variables": {},
   "exception": null,
   "input_path": "__notebook__.ipynb",
   "output_path": "__notebook__.ipynb",
   "parameters": {},
   "start_time": "2023-12-13T12:49:47.362311",
   "version": "2.4.0"
  }
 },
 "nbformat": 4,
 "nbformat_minor": 5
}
